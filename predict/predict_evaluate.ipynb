{
  "nbformat": 4,
  "nbformat_minor": 0,
  "metadata": {
    "colab": {
      "name": "predict_evaluate.ipynb",
      "provenance": [],
      "collapsed_sections": []
    },
    "kernelspec": {
      "name": "python3",
      "display_name": "Python 3"
    }
  },
  "cells": [
    {
      "cell_type": "code",
      "metadata": {
        "id": "YgQllUjD0p87",
        "colab": {
          "base_uri": "https://localhost:8080/"
        },
        "outputId": "5b680699-be72-4950-f4fb-e3787713461f"
      },
      "source": [
        "from google.colab import drive\n",
        "drive.mount('/content/drive')"
      ],
      "execution_count": 1,
      "outputs": [
        {
          "output_type": "stream",
          "text": [
            "Mounted at /content/drive\n"
          ],
          "name": "stdout"
        }
      ]
    },
    {
      "cell_type": "code",
      "metadata": {
        "id": "iMPM2_La0ul8",
        "colab": {
          "base_uri": "https://localhost:8080/"
        },
        "outputId": "a3b68740-1fcb-4d24-8dcf-2bbac0db86a9"
      },
      "source": [
        "!pip install flask-ngrok\n",
        "!pip install git+https://github.com/facebookresearch/fastText.git"
      ],
      "execution_count": 2,
      "outputs": [
        {
          "output_type": "stream",
          "text": [
            "Collecting flask-ngrok\n",
            "  Downloading https://files.pythonhosted.org/packages/af/6c/f54cb686ad1129e27d125d182f90f52b32f284e6c8df58c1bae54fa1adbc/flask_ngrok-0.0.25-py3-none-any.whl\n",
            "Requirement already satisfied: requests in /usr/local/lib/python3.7/dist-packages (from flask-ngrok) (2.23.0)\n",
            "Requirement already satisfied: Flask>=0.8 in /usr/local/lib/python3.7/dist-packages (from flask-ngrok) (1.1.2)\n",
            "Requirement already satisfied: urllib3!=1.25.0,!=1.25.1,<1.26,>=1.21.1 in /usr/local/lib/python3.7/dist-packages (from requests->flask-ngrok) (1.24.3)\n",
            "Requirement already satisfied: certifi>=2017.4.17 in /usr/local/lib/python3.7/dist-packages (from requests->flask-ngrok) (2020.12.5)\n",
            "Requirement already satisfied: chardet<4,>=3.0.2 in /usr/local/lib/python3.7/dist-packages (from requests->flask-ngrok) (3.0.4)\n",
            "Requirement already satisfied: idna<3,>=2.5 in /usr/local/lib/python3.7/dist-packages (from requests->flask-ngrok) (2.10)\n",
            "Requirement already satisfied: Jinja2>=2.10.1 in /usr/local/lib/python3.7/dist-packages (from Flask>=0.8->flask-ngrok) (2.11.3)\n",
            "Requirement already satisfied: click>=5.1 in /usr/local/lib/python3.7/dist-packages (from Flask>=0.8->flask-ngrok) (7.1.2)\n",
            "Requirement already satisfied: Werkzeug>=0.15 in /usr/local/lib/python3.7/dist-packages (from Flask>=0.8->flask-ngrok) (1.0.1)\n",
            "Requirement already satisfied: itsdangerous>=0.24 in /usr/local/lib/python3.7/dist-packages (from Flask>=0.8->flask-ngrok) (1.1.0)\n",
            "Requirement already satisfied: MarkupSafe>=0.23 in /usr/local/lib/python3.7/dist-packages (from Jinja2>=2.10.1->Flask>=0.8->flask-ngrok) (1.1.1)\n",
            "Installing collected packages: flask-ngrok\n",
            "Successfully installed flask-ngrok-0.0.25\n",
            "Collecting git+https://github.com/facebookresearch/fastText.git\n",
            "  Cloning https://github.com/facebookresearch/fastText.git to /tmp/pip-req-build-tgrnieue\n",
            "  Running command git clone -q https://github.com/facebookresearch/fastText.git /tmp/pip-req-build-tgrnieue\n",
            "Requirement already satisfied: pybind11>=2.2 in /usr/local/lib/python3.7/dist-packages (from fasttext==0.9.2) (2.6.2)\n",
            "Requirement already satisfied: setuptools>=0.7.0 in /usr/local/lib/python3.7/dist-packages (from fasttext==0.9.2) (54.2.0)\n",
            "Requirement already satisfied: numpy in /usr/local/lib/python3.7/dist-packages (from fasttext==0.9.2) (1.19.5)\n",
            "Building wheels for collected packages: fasttext\n",
            "  Building wheel for fasttext (setup.py) ... \u001b[?25l\u001b[?25hdone\n",
            "  Created wheel for fasttext: filename=fasttext-0.9.2-cp37-cp37m-linux_x86_64.whl size=3085779 sha256=51cf57910d00788604c0bdf0340fc9ee82be42d5260b37d78210ac9a2991f340\n",
            "  Stored in directory: /tmp/pip-ephem-wheel-cache-cklaojc_/wheels/69/f8/19/7f0ab407c078795bc9f86e1f6381349254f86fd7d229902355\n",
            "Successfully built fasttext\n",
            "Installing collected packages: fasttext\n",
            "Successfully installed fasttext-0.9.2\n"
          ],
          "name": "stdout"
        }
      ]
    },
    {
      "cell_type": "code",
      "metadata": {
        "id": "d48fmlv7ek7h",
        "colab": {
          "base_uri": "https://localhost:8080/"
        },
        "outputId": "77f9b69c-35cb-47f4-d128-87a12b4057c6"
      },
      "source": [
        "!pip install tensorflow==1.15\n",
        "!pip install keras==2.2.5\n",
        "!pip install git+https://www.github.com/keras-team/keras-contrib.git"
      ],
      "execution_count": 3,
      "outputs": [
        {
          "output_type": "stream",
          "text": [
            "Collecting tensorflow==1.15\n",
            "\u001b[?25l  Downloading https://files.pythonhosted.org/packages/92/2b/e3af15221da9ff323521565fa3324b0d7c7c5b1d7a8ca66984c8d59cb0ce/tensorflow-1.15.0-cp37-cp37m-manylinux2010_x86_64.whl (412.3MB)\n",
            "\u001b[K     |████████████████████████████████| 412.3MB 32kB/s \n",
            "\u001b[?25hRequirement already satisfied: absl-py>=0.7.0 in /usr/local/lib/python3.7/dist-packages (from tensorflow==1.15) (0.12.0)\n",
            "Requirement already satisfied: opt-einsum>=2.3.2 in /usr/local/lib/python3.7/dist-packages (from tensorflow==1.15) (3.3.0)\n",
            "Requirement already satisfied: astor>=0.6.0 in /usr/local/lib/python3.7/dist-packages (from tensorflow==1.15) (0.8.1)\n",
            "Collecting tensorboard<1.16.0,>=1.15.0\n",
            "\u001b[?25l  Downloading https://files.pythonhosted.org/packages/1e/e9/d3d747a97f7188f48aa5eda486907f3b345cd409f0a0850468ba867db246/tensorboard-1.15.0-py3-none-any.whl (3.8MB)\n",
            "\u001b[K     |████████████████████████████████| 3.8MB 27.3MB/s \n",
            "\u001b[?25hRequirement already satisfied: wrapt>=1.11.1 in /usr/local/lib/python3.7/dist-packages (from tensorflow==1.15) (1.12.1)\n",
            "Collecting keras-applications>=1.0.8\n",
            "\u001b[?25l  Downloading https://files.pythonhosted.org/packages/71/e3/19762fdfc62877ae9102edf6342d71b28fbfd9dea3d2f96a882ce099b03f/Keras_Applications-1.0.8-py3-none-any.whl (50kB)\n",
            "\u001b[K     |████████████████████████████████| 51kB 5.4MB/s \n",
            "\u001b[?25hCollecting gast==0.2.2\n",
            "  Downloading https://files.pythonhosted.org/packages/4e/35/11749bf99b2d4e3cceb4d55ca22590b0d7c2c62b9de38ac4a4a7f4687421/gast-0.2.2.tar.gz\n",
            "Collecting tensorflow-estimator==1.15.1\n",
            "\u001b[?25l  Downloading https://files.pythonhosted.org/packages/de/62/2ee9cd74c9fa2fa450877847ba560b260f5d0fb70ee0595203082dafcc9d/tensorflow_estimator-1.15.1-py2.py3-none-any.whl (503kB)\n",
            "\u001b[K     |████████████████████████████████| 512kB 44.1MB/s \n",
            "\u001b[?25hRequirement already satisfied: protobuf>=3.6.1 in /usr/local/lib/python3.7/dist-packages (from tensorflow==1.15) (3.12.4)\n",
            "Requirement already satisfied: wheel>=0.26 in /usr/local/lib/python3.7/dist-packages (from tensorflow==1.15) (0.36.2)\n",
            "Requirement already satisfied: numpy<2.0,>=1.16.0 in /usr/local/lib/python3.7/dist-packages (from tensorflow==1.15) (1.19.5)\n",
            "Requirement already satisfied: termcolor>=1.1.0 in /usr/local/lib/python3.7/dist-packages (from tensorflow==1.15) (1.1.0)\n",
            "Requirement already satisfied: keras-preprocessing>=1.0.5 in /usr/local/lib/python3.7/dist-packages (from tensorflow==1.15) (1.1.2)\n",
            "Requirement already satisfied: google-pasta>=0.1.6 in /usr/local/lib/python3.7/dist-packages (from tensorflow==1.15) (0.2.0)\n",
            "Requirement already satisfied: six>=1.10.0 in /usr/local/lib/python3.7/dist-packages (from tensorflow==1.15) (1.15.0)\n",
            "Requirement already satisfied: grpcio>=1.8.6 in /usr/local/lib/python3.7/dist-packages (from tensorflow==1.15) (1.32.0)\n",
            "Requirement already satisfied: setuptools>=41.0.0 in /usr/local/lib/python3.7/dist-packages (from tensorboard<1.16.0,>=1.15.0->tensorflow==1.15) (54.2.0)\n",
            "Requirement already satisfied: werkzeug>=0.11.15 in /usr/local/lib/python3.7/dist-packages (from tensorboard<1.16.0,>=1.15.0->tensorflow==1.15) (1.0.1)\n",
            "Requirement already satisfied: markdown>=2.6.8 in /usr/local/lib/python3.7/dist-packages (from tensorboard<1.16.0,>=1.15.0->tensorflow==1.15) (3.3.4)\n",
            "Requirement already satisfied: h5py in /usr/local/lib/python3.7/dist-packages (from keras-applications>=1.0.8->tensorflow==1.15) (2.10.0)\n",
            "Requirement already satisfied: importlib-metadata; python_version < \"3.8\" in /usr/local/lib/python3.7/dist-packages (from markdown>=2.6.8->tensorboard<1.16.0,>=1.15.0->tensorflow==1.15) (3.10.1)\n",
            "Requirement already satisfied: zipp>=0.5 in /usr/local/lib/python3.7/dist-packages (from importlib-metadata; python_version < \"3.8\"->markdown>=2.6.8->tensorboard<1.16.0,>=1.15.0->tensorflow==1.15) (3.4.1)\n",
            "Requirement already satisfied: typing-extensions>=3.6.4; python_version < \"3.8\" in /usr/local/lib/python3.7/dist-packages (from importlib-metadata; python_version < \"3.8\"->markdown>=2.6.8->tensorboard<1.16.0,>=1.15.0->tensorflow==1.15) (3.7.4.3)\n",
            "Building wheels for collected packages: gast\n",
            "  Building wheel for gast (setup.py) ... \u001b[?25l\u001b[?25hdone\n",
            "  Created wheel for gast: filename=gast-0.2.2-cp37-none-any.whl size=7540 sha256=a4b7a453670e6b735400dbd7efb23e77ba8f6954ad72097b885096fac4245920\n",
            "  Stored in directory: /root/.cache/pip/wheels/5c/2e/7e/a1d4d4fcebe6c381f378ce7743a3ced3699feb89bcfbdadadd\n",
            "Successfully built gast\n",
            "\u001b[31mERROR: tensorflow-probability 0.12.1 has requirement gast>=0.3.2, but you'll have gast 0.2.2 which is incompatible.\u001b[0m\n",
            "Installing collected packages: tensorboard, keras-applications, gast, tensorflow-estimator, tensorflow\n",
            "  Found existing installation: tensorboard 2.4.1\n",
            "    Uninstalling tensorboard-2.4.1:\n",
            "      Successfully uninstalled tensorboard-2.4.1\n",
            "  Found existing installation: gast 0.3.3\n",
            "    Uninstalling gast-0.3.3:\n",
            "      Successfully uninstalled gast-0.3.3\n",
            "  Found existing installation: tensorflow-estimator 2.4.0\n",
            "    Uninstalling tensorflow-estimator-2.4.0:\n",
            "      Successfully uninstalled tensorflow-estimator-2.4.0\n",
            "  Found existing installation: tensorflow 2.4.1\n",
            "    Uninstalling tensorflow-2.4.1:\n",
            "      Successfully uninstalled tensorflow-2.4.1\n",
            "Successfully installed gast-0.2.2 keras-applications-1.0.8 tensorboard-1.15.0 tensorflow-1.15.0 tensorflow-estimator-1.15.1\n",
            "Collecting keras==2.2.5\n",
            "\u001b[?25l  Downloading https://files.pythonhosted.org/packages/f8/ba/2d058dcf1b85b9c212cc58264c98a4a7dd92c989b798823cc5690d062bb2/Keras-2.2.5-py2.py3-none-any.whl (336kB)\n",
            "\u001b[K     |████████████████████████████████| 337kB 4.3MB/s \n",
            "\u001b[?25hRequirement already satisfied: numpy>=1.9.1 in /usr/local/lib/python3.7/dist-packages (from keras==2.2.5) (1.19.5)\n",
            "Requirement already satisfied: scipy>=0.14 in /usr/local/lib/python3.7/dist-packages (from keras==2.2.5) (1.4.1)\n",
            "Requirement already satisfied: keras-preprocessing>=1.1.0 in /usr/local/lib/python3.7/dist-packages (from keras==2.2.5) (1.1.2)\n",
            "Requirement already satisfied: pyyaml in /usr/local/lib/python3.7/dist-packages (from keras==2.2.5) (3.13)\n",
            "Requirement already satisfied: six>=1.9.0 in /usr/local/lib/python3.7/dist-packages (from keras==2.2.5) (1.15.0)\n",
            "Requirement already satisfied: keras-applications>=1.0.8 in /usr/local/lib/python3.7/dist-packages (from keras==2.2.5) (1.0.8)\n",
            "Requirement already satisfied: h5py in /usr/local/lib/python3.7/dist-packages (from keras==2.2.5) (2.10.0)\n",
            "Installing collected packages: keras\n",
            "  Found existing installation: Keras 2.4.3\n",
            "    Uninstalling Keras-2.4.3:\n",
            "      Successfully uninstalled Keras-2.4.3\n",
            "Successfully installed keras-2.2.5\n",
            "Collecting git+https://www.github.com/keras-team/keras-contrib.git\n",
            "  Cloning https://www.github.com/keras-team/keras-contrib.git to /tmp/pip-req-build-uc0sour8\n",
            "  Running command git clone -q https://www.github.com/keras-team/keras-contrib.git /tmp/pip-req-build-uc0sour8\n",
            "Requirement already satisfied: keras in /usr/local/lib/python3.7/dist-packages (from keras-contrib==2.0.8) (2.2.5)\n",
            "Requirement already satisfied: scipy>=0.14 in /usr/local/lib/python3.7/dist-packages (from keras->keras-contrib==2.0.8) (1.4.1)\n",
            "Requirement already satisfied: six>=1.9.0 in /usr/local/lib/python3.7/dist-packages (from keras->keras-contrib==2.0.8) (1.15.0)\n",
            "Requirement already satisfied: keras-preprocessing>=1.1.0 in /usr/local/lib/python3.7/dist-packages (from keras->keras-contrib==2.0.8) (1.1.2)\n",
            "Requirement already satisfied: h5py in /usr/local/lib/python3.7/dist-packages (from keras->keras-contrib==2.0.8) (2.10.0)\n",
            "Requirement already satisfied: pyyaml in /usr/local/lib/python3.7/dist-packages (from keras->keras-contrib==2.0.8) (3.13)\n",
            "Requirement already satisfied: keras-applications>=1.0.8 in /usr/local/lib/python3.7/dist-packages (from keras->keras-contrib==2.0.8) (1.0.8)\n",
            "Requirement already satisfied: numpy>=1.9.1 in /usr/local/lib/python3.7/dist-packages (from keras->keras-contrib==2.0.8) (1.19.5)\n",
            "Building wheels for collected packages: keras-contrib\n",
            "  Building wheel for keras-contrib (setup.py) ... \u001b[?25l\u001b[?25hdone\n",
            "  Created wheel for keras-contrib: filename=keras_contrib-2.0.8-cp37-none-any.whl size=101065 sha256=044178267721ae7e31b3813011a2d112d4c00dd598e080a26068ee57c2eb29f0\n",
            "  Stored in directory: /tmp/pip-ephem-wheel-cache-ux54r6pi/wheels/11/27/c8/4ed56de7b55f4f61244e2dc6ef3cdbaff2692527a2ce6502ba\n",
            "Successfully built keras-contrib\n",
            "Installing collected packages: keras-contrib\n",
            "Successfully installed keras-contrib-2.0.8\n"
          ],
          "name": "stdout"
        }
      ]
    },
    {
      "cell_type": "code",
      "metadata": {
        "id": "iYwlQRHnfMg1"
      },
      "source": [
        "import numpy as np\n",
        "from numpy import argmax\n",
        "import requests\n",
        "import codecs\n",
        "import _pickle as pickle\n",
        "import time\n",
        "import csv"
      ],
      "execution_count": 19,
      "outputs": []
    },
    {
      "cell_type": "code",
      "metadata": {
        "id": "F4PpwUDlSFNH"
      },
      "source": [
        "def read_conll_format(input_file):\n",
        "    with codecs.open(input_file, 'r', encoding='utf8') as f:\n",
        "        word_list = [] \n",
        "        chunk_list = []\n",
        "        pos_list = []\n",
        "        tag_list = []\n",
        "        words = []\n",
        "        chunks = []\n",
        "        poss = []\n",
        "        tags = []\n",
        "        num_sent = 0\n",
        "        max_length = 0\n",
        "        for line in f:\n",
        "            line = line.split()\n",
        "            if len(line) > 0:\n",
        "                words.append(map_number_and_punct(line[0].lower()))\n",
        "                poss.append(line[1])\n",
        "                chunks.append(line[2])\n",
        "                tags.append(line[3])\n",
        "            else:\n",
        "                word_list.append(words)\n",
        "                pos_list.append(poss)\n",
        "                chunk_list.append(chunks)\n",
        "                tag_list.append(tags)\n",
        "                sent_length = len(words)\n",
        "                words = []\n",
        "                chunks = []\n",
        "                poss = []\n",
        "                tags = []\n",
        "                num_sent += 1\n",
        "                max_length = max(max_length, sent_length)\n",
        "    return word_list, pos_list, chunk_list, tag_list, num_sent, max_length\n",
        "\n",
        "def map_number_and_punct(word):\n",
        "    if any(char.isdigit() for char in word):\n",
        "        word = u'<number>'\n",
        "    elif word in [u',', u'<', u'.', u'>', u'/', u'?', u'..', u'...', u'....', u':', u';', u'\"', u\"'\", u'[', u'{', u']',\n",
        "                  u'}', u'|', u'\\\\', u'`', u'~', u'!', u'@', u'#', u'$', u'%', u'^', u'&', u'*', u'(', u')', u'-', u'+',\n",
        "                  u'=']:\n",
        "        word = u'<punct>'\n",
        "    return word"
      ],
      "execution_count": 20,
      "outputs": []
    },
    {
      "cell_type": "code",
      "metadata": {
        "id": "bHsrSh64SSMF"
      },
      "source": [
        "word_list, pos_list, chunk_list, tag_list, num_sent, max_length = read_conll_format('/content/drive/MyDrive/data/data_cau_giay/random_spelling_error.txt')"
      ],
      "execution_count": 112,
      "outputs": []
    },
    {
      "cell_type": "code",
      "metadata": {
        "id": "2QA5M6tfS73s"
      },
      "source": [
        "def dict_of_tags(tag_list):\n",
        "    dic = {'pad': 0}\n",
        "    index = 0\n",
        "    for tags in tag_list:\n",
        "        for tag in tags:\n",
        "            try:\n",
        "                dic[tag]\n",
        "            except:\n",
        "                index = index + 1\n",
        "                dic[tag]= index\n",
        "    return dic, len(dic)"
      ],
      "execution_count": 113,
      "outputs": []
    },
    {
      "cell_type": "code",
      "metadata": {
        "id": "X9222rSzS8mv"
      },
      "source": [
        "dic_of_tag, len_of_dic_tag = dict_of_tags(tag_list)"
      ],
      "execution_count": 114,
      "outputs": []
    },
    {
      "cell_type": "code",
      "metadata": {
        "id": "k-XKNXF5AMln"
      },
      "source": [
        "from keras.models import load_model\n",
        "m = load_model(\"/content/drive/MyDrive/data/input_output/version_1/all_error_spelling_model.h1\")"
      ],
      "execution_count": 115,
      "outputs": []
    },
    {
      "cell_type": "code",
      "metadata": {
        "colab": {
          "base_uri": "https://localhost:8080/"
        },
        "id": "PKHABcXhSjC3",
        "outputId": "e8225490-16da-4431-e85b-a49814099660"
      },
      "source": [
        "!pip install vncorenlp"
      ],
      "execution_count": 10,
      "outputs": [
        {
          "output_type": "stream",
          "text": [
            "Collecting vncorenlp\n",
            "\u001b[?25l  Downloading https://files.pythonhosted.org/packages/71/c2/96a60cf75421ecc740829fa920c617b3dd7fa6791e17554e7c6f3e7d7fca/vncorenlp-1.0.3.tar.gz (2.6MB)\n",
            "\u001b[K     |████████████████████████████████| 2.7MB 4.3MB/s \n",
            "\u001b[?25hRequirement already satisfied: requests in /usr/local/lib/python3.7/dist-packages (from vncorenlp) (2.23.0)\n",
            "Requirement already satisfied: certifi>=2017.4.17 in /usr/local/lib/python3.7/dist-packages (from requests->vncorenlp) (2020.12.5)\n",
            "Requirement already satisfied: idna<3,>=2.5 in /usr/local/lib/python3.7/dist-packages (from requests->vncorenlp) (2.10)\n",
            "Requirement already satisfied: urllib3!=1.25.0,!=1.25.1,<1.26,>=1.21.1 in /usr/local/lib/python3.7/dist-packages (from requests->vncorenlp) (1.24.3)\n",
            "Requirement already satisfied: chardet<4,>=3.0.2 in /usr/local/lib/python3.7/dist-packages (from requests->vncorenlp) (3.0.4)\n",
            "Building wheels for collected packages: vncorenlp\n",
            "  Building wheel for vncorenlp (setup.py) ... \u001b[?25l\u001b[?25hdone\n",
            "  Created wheel for vncorenlp: filename=vncorenlp-1.0.3-cp37-none-any.whl size=2645936 sha256=332227c9adb670558469ce32de4d2ed7a174c34d9d648292fbcdbafe66095aab\n",
            "  Stored in directory: /root/.cache/pip/wheels/09/54/8b/043667de6091d06a381d7745f44174504a9a4a56ecc9380c54\n",
            "Successfully built vncorenlp\n",
            "Installing collected packages: vncorenlp\n",
            "Successfully installed vncorenlp-1.0.3\n"
          ],
          "name": "stdout"
        }
      ]
    },
    {
      "cell_type": "code",
      "metadata": {
        "colab": {
          "base_uri": "https://localhost:8080/"
        },
        "id": "7tK5EQ4WTRa_",
        "outputId": "f75efbaa-ed30-4ae9-9546-cee37000dd2c"
      },
      "source": [
        "print(dic_of_tag)\n",
        "print(len_of_dic_tag)\n",
        "aphabet_tag = []\n",
        "for key, value in dic_of_tag.items():\n",
        "    aphabet_tag.append(key)\n",
        "    # value_dic.append(value)"
      ],
      "execution_count": 116,
      "outputs": [
        {
          "output_type": "stream",
          "text": [
            "{'pad': 0, 'đường': 1, 'trần': 2, 'thái': 3, 'tông': 4, 'trung': 5, 'hoà': 6, 'cầu': 7, 'giấy': 8, 'hà': 9, 'nội': 10, 'ngõ': 11, '195': 12, 'kính': 13, '63': 14, 'xuân': 15, 'thủy': 16, 'nguyễn': 17, 'chánh': 18, 'ngách': 19, '43/121': 20, 'phố': 21, 'quốc': 22, 'hoàn': 23, '43/113': 24, '2': 25, '53': 26, '41': 27, 'dương': 28, 'đình': 29, 'nghệ': 30, '53/15': 31, '23': 32, '85': 33, '106/43': 34, 'hẻm': 35, '181/27/32': 36, '20': 37, '37': 38, '31': 39, 'mạc': 40, '31/26': 41, '181/27/32/18': 42, '123': 43, '31/22': 44, '20/5': 45, '181/27': 46, '193': 47, 'yên': 48, '31/18': 49, '181/27/10': 50, '48': 51, '31/12': 52, '85/24/10': 53, 'hoàng': 54, 'minh': 55, 'giám': 56, 'doãn': 57, 'kế': 58, 'thiện': 59, 'mai': 60, 'dịch': 61, '445': 62, 'lạc': 63, 'long': 64, 'quân': 65, 'nghĩa': 66, 'đô': 67, 'giao': 68, 'lộ': 69, 'đoạn': 70, 'quay': 71, 'đầu': 72, 'võ': 73, 'chí': 74, 'công': 75, 'ngọc': 76, 'vũ': 77, 'thị': 78, 'định': 79, 'lê': 80, 'văn': 81, 'lương': 82, 'ngân': 83, '10': 84, '34/4': 85, 'duy': 86, 'hưng': 87, '71': 88, '4': 89, 'lô': 90, '14a': 91, 'vọng': 92, 'hậu': 93, 'tân': 94, '800a': 95, '5/45': 96, 'việt': 97, '235': 98, 'hòa': 99, '253/23': 100, '217/27': 101, '394a': 102, 'bưởi': 103, '394b': 104, 'cửa': 105, 'hàng': 106, 'rồng': 107, 'biển': 108, '396': 109, '406': 110, '422': 111, '134': 112, '285': 113, 'khuất': 114, 'tiến': 115, '60/293': 116, '43/86': 117, '293': 118, '125': 119, '80': 120, 'khang': 121, '43/66': 122, '125/33': 123, '91/16': 124, '39/5': 125, '110': 126, '125/1': 127, '43/66/9': 128, 'khu': 129, 'nhân': 130, 'chính': 131, '26/27': 132, 'đỗ': 133, 'quang': 134, '3': 135, '9': 136, '120': 137, '36': 138, '43/60': 139, '36/8': 140, '140': 141, '83/4': 142, '88': 143, '58/74': 144, 'khánh': 145, 'toàn': 146, 'quan': 147, 'hoa': 148, '14': 149, 'đông': 150, '5/102': 151, 'sâm': 152, '16': 153, '13': 154, '5/86': 155, '78': 156, '1': 157, '16/30': 158, 'nhà': 159, 'nghỉ': 160, 'bình': 161, '82': 162, '86': 163, 'ocerbank': 164, '114': 165, '8a': 166, 'ảnh': 167, 'viện': 168, 'piano': 169, '72': 170, 'bảo': 171, 'tàng': 172, 'dân': 173, 'tộc': 174, 'học': 175, 'nam': 176, '94': 177, 'tạp': 178, 'hóa': 179, '2a': 180, '100': 181, '34': 182, 'trường': 183, 'cao': 184, 'đẳng': 185, 'cộng': 186, 'đồng': 187, '28a': 188, 'tòa': 189, 'phòng': 190, 'tâm': 191, 'ngoại': 192, 'ngữ': 193, 'tin': 194, 'nghiệp': 195, 'vụ': 196, 'và': 197, 'tư': 198, 'vấn': 199, '26': 200, '7': 201, 'chuyên': 202, 'sửa': 203, 'chữa': 204, '-': 205, 'dưỡng': 206, 'xe': 207, 'ga': 208, 'số': 209, '22': 210, '8': 211, 'đất': 212, 'an': 213, 'phú': 214, '22a': 215, 'khám': 216, 'nga': 217, 'chung': 218, 'cư': 219, 'f4': 220, '1a': 221, '5/114': 222, 'phẩm': 223, 'quà': 224, 'tặng': 225, 'đồ': 226, 'chơi': 227, 'quán': 228, 'cà': 229, 'phê': 230, 'highlands': 231, '118': 232, '5': 233, 'kim': 234, 'khí': 235, 'điện': 236, 'dụng': 237, 'ánh': 238, 'tuyết': 239, 'ty': 240, 'sơn': 241, '122': 242, '40': 243, 'huyên': 244, '128': 245, '112': 246, '30': 247, 'xí': 248, 'phát': 249, 'triển': 250, 'hạ': 251, 'tầng': 252, '136': 253, '24': 254, '138': 255, 'sinh': 256, 'viên': 257, 'tí': 258, 'cồ': 259, 'phở': 260, 'bò': 261, '18': 262, '58/63': 263, '4b': 264, 'khách': 265, 'sạn': 266, 'ngôi': 267, 'sao': 268, 'phân': 269, 'phối': 270, 'thiết': 271, 'bị': 272, 'panasonic': 273, '176': 274, 'phúc': 275, 'lòng': 276, 'cháo': 277, 'thời': 278, 'trang': 279, 'figo': 280, 'sgop': 281, '1/152': 282, '168': 283, '164': 284, '1b': 285, '11': 286, 'chứng': 287, 'a9': 288, '80a': 289, '170': 290, '172': 291, '178': 292, '25': 293, 'phùng': 294, 'kiên': 295, 'bánh': 296, 'thu': 297, 'hữu': 298, 'nghị': 299, '19': 300, 'cp': 301, 'tử': 302, 'chất': 303, '235/15': 304, '186': 305, 'máy': 306, 'thuấn': 307, '54': 308, '50': 309, 'salon': 310, 'tóc': 311, 'phương': 312, 'thuy': 313, '93/4': 314, '32': 315, 'linh': 316, 'star': 317, '94a': 318, 'tnhh': 319, '3gi': 320, '202': 321, '17': 322, 'đào': 323, 'tạo': 324, 'ipass': 325, 'cơm': 326, 'ngon': 327, 'kcc': 328, '235/27': 329, '21': 330, '84': 331, '206': 332, '27': 333, 'vivi': 334, 'truyền': 335, 'thông': 336, 'lâm': 337, 'thanh': 338, 'thoại': 339, 'mobile': 340, '259': 341, 'thực': 342, 'chức': 343, 'năng': 344, 'mỹ': 345, 'miss': 346, 'anna': 347, '58': 348, 'made': 349, 'in': 350, '43': 351, 'café': 352, '38': 353, 'hát': 354, 'cho': 355, 'nhau': 356, 'nghe': 357, '91': 358, 'thành': 359, 'biên': 360, 'lốp': 361, 'ắc': 362, 'quy': 363, 'ôtô': 364, '69': 365, 'castrol': 366, 'bike': 367, 'point': 368, 'vel': 369, 'city': 370, 'phạm': 371, 'thận': 372, 'duật': 373, '385/3': 374, '44': 375, '82/2': 376, '34b-b6': 377, '187/21': 378, '46': 379, '111b': 380, '106': 381, '60': 382, '107': 383, 'thương': 384, 'mại': 385, 'xuất': 386, 'nhập': 387, 'khẩu': 388, 'vật': 389, 'nước': 390, 'cổ': 391, 'phần': 392, 'vsi': 393, 'gà': 394, 'tần': 395, 'bún': 396, 'chả': 397, 'onyx': 398, '14-16b3': 399, '217': 400, '102-a7': 401, '165': 402, '169': 403, '108': 404, '15': 405, '161': 406, 'giặt': 407, 'là': 408, '159': 409, 'a26': 410, '385': 411, '27-b3': 412, 'thuốc': 413, 'hải': 414, '106b': 415, '147': 416, '6': 417, '82/4': 418, 'b7': 419, '103': 420, 'b1': 421, '367': 422, 'b2': 423, 've': 424, '82/6': 425, '104': 426, 'a27': 427, '82/10': 428, '103b': 429, '105': 430, '210/28': 431, 'trẻ': 432, 'em': 433, '116': 434, '132': 435, '111': 436, '2c': 437, '49/16': 438, 'cung': 439, '217/2': 440, '106a': 441, '245': 442, '48/5': 443, '14d': 444, '5/72': 445, '23a': 446, '58/63/21': 447, '1c': 448, '12': 449, '58/35a': 450, 'đăng': 451, 'ninh': 452, '67': 453, '64': 454, '23d': 455, '1/52': 456, '66a': 457, '58/45': 458, '5/78': 459, '101': 460, '76': 461, '58/42': 462, '21b': 463, '20b': 464, '225': 465, 'cô': 466, 'lan': 467, 'quả': 468, 'kẹo': 469, '48/1': 470, '25d': 471, '12b': 472, '55': 473, '30a': 474, '291': 475, 'tô': 476, 'hiệu': 477, 'taxi': 478, 'triệu': 479, 'đạt': 480, 'gara': 481, 'ô': 482, '6-8': 483, '273': 484, '283': 485, '5a2': 486, '39': 487, '275': 488, '7a': 489, '259b': 490, '48/4': 491, '269': 492, '261': 493, '29': 494, '257': 495, '241': 496, '22c': 497, '32b': 498, '52': 499, '28': 500, '152': 501, '60a': 502, 'giải': 503, 'khát': 504, '207': 505, '62': 506, '70': 507, '74': 508, '201': 509, 'thảo': 510, 'huy': 511, 'thao': 512, 'viet': 513, 'ceramics': 514, 'thất': 515, 'iki': 516, 'decor': 517, 'techcombank': 518, '87': 519, 'đại': 520, 'lý': 521, 'vé': 522, 'bay': 523, 'chuỗi': 524, '5s': 525, '59c': 526, 'cá': 527, '3b': 528, '65': 529, 'rửa': 530, 'món': 531, 'huế': 532, '124': 533, '156': 534, '119': 535, 'hàm': 536, '6b': 537, '185': 538, '102': 539, 'thịnh': 540, 'soya': 541, 'garden': 542, 'vàng': 543, 'mã': 544, '177': 545, '65k': 546, 'pooltek': 547, 'tế': 548, '175': 549, 'ngành': 550, 'đức': 551, '68': 552, 'gạch': 553, 'ốp': 554, 'lát': 555, 'vệ': 556, 'song': 557, '93': 558, '209': 559, '144': 560}\n",
            "561\n"
          ],
          "name": "stdout"
        }
      ]
    },
    {
      "cell_type": "code",
      "metadata": {
        "colab": {
          "base_uri": "https://localhost:8080/"
        },
        "id": "NpLDGx2TTlT7",
        "outputId": "74120267-fe37-4214-e3a0-fab0415071df"
      },
      "source": [
        "print(aphabet_tag)"
      ],
      "execution_count": 117,
      "outputs": [
        {
          "output_type": "stream",
          "text": [
            "['pad', 'đường', 'trần', 'thái', 'tông', 'trung', 'hoà', 'cầu', 'giấy', 'hà', 'nội', 'ngõ', '195', 'kính', '63', 'xuân', 'thủy', 'nguyễn', 'chánh', 'ngách', '43/121', 'phố', 'quốc', 'hoàn', '43/113', '2', '53', '41', 'dương', 'đình', 'nghệ', '53/15', '23', '85', '106/43', 'hẻm', '181/27/32', '20', '37', '31', 'mạc', '31/26', '181/27/32/18', '123', '31/22', '20/5', '181/27', '193', 'yên', '31/18', '181/27/10', '48', '31/12', '85/24/10', 'hoàng', 'minh', 'giám', 'doãn', 'kế', 'thiện', 'mai', 'dịch', '445', 'lạc', 'long', 'quân', 'nghĩa', 'đô', 'giao', 'lộ', 'đoạn', 'quay', 'đầu', 'võ', 'chí', 'công', 'ngọc', 'vũ', 'thị', 'định', 'lê', 'văn', 'lương', 'ngân', '10', '34/4', 'duy', 'hưng', '71', '4', 'lô', '14a', 'vọng', 'hậu', 'tân', '800a', '5/45', 'việt', '235', 'hòa', '253/23', '217/27', '394a', 'bưởi', '394b', 'cửa', 'hàng', 'rồng', 'biển', '396', '406', '422', '134', '285', 'khuất', 'tiến', '60/293', '43/86', '293', '125', '80', 'khang', '43/66', '125/33', '91/16', '39/5', '110', '125/1', '43/66/9', 'khu', 'nhân', 'chính', '26/27', 'đỗ', 'quang', '3', '9', '120', '36', '43/60', '36/8', '140', '83/4', '88', '58/74', 'khánh', 'toàn', 'quan', 'hoa', '14', 'đông', '5/102', 'sâm', '16', '13', '5/86', '78', '1', '16/30', 'nhà', 'nghỉ', 'bình', '82', '86', 'ocerbank', '114', '8a', 'ảnh', 'viện', 'piano', '72', 'bảo', 'tàng', 'dân', 'tộc', 'học', 'nam', '94', 'tạp', 'hóa', '2a', '100', '34', 'trường', 'cao', 'đẳng', 'cộng', 'đồng', '28a', 'tòa', 'phòng', 'tâm', 'ngoại', 'ngữ', 'tin', 'nghiệp', 'vụ', 'và', 'tư', 'vấn', '26', '7', 'chuyên', 'sửa', 'chữa', '-', 'dưỡng', 'xe', 'ga', 'số', '22', '8', 'đất', 'an', 'phú', '22a', 'khám', 'nga', 'chung', 'cư', 'f4', '1a', '5/114', 'phẩm', 'quà', 'tặng', 'đồ', 'chơi', 'quán', 'cà', 'phê', 'highlands', '118', '5', 'kim', 'khí', 'điện', 'dụng', 'ánh', 'tuyết', 'ty', 'sơn', '122', '40', 'huyên', '128', '112', '30', 'xí', 'phát', 'triển', 'hạ', 'tầng', '136', '24', '138', 'sinh', 'viên', 'tí', 'cồ', 'phở', 'bò', '18', '58/63', '4b', 'khách', 'sạn', 'ngôi', 'sao', 'phân', 'phối', 'thiết', 'bị', 'panasonic', '176', 'phúc', 'lòng', 'cháo', 'thời', 'trang', 'figo', 'sgop', '1/152', '168', '164', '1b', '11', 'chứng', 'a9', '80a', '170', '172', '178', '25', 'phùng', 'kiên', 'bánh', 'thu', 'hữu', 'nghị', '19', 'cp', 'tử', 'chất', '235/15', '186', 'máy', 'thuấn', '54', '50', 'salon', 'tóc', 'phương', 'thuy', '93/4', '32', 'linh', 'star', '94a', 'tnhh', '3gi', '202', '17', 'đào', 'tạo', 'ipass', 'cơm', 'ngon', 'kcc', '235/27', '21', '84', '206', '27', 'vivi', 'truyền', 'thông', 'lâm', 'thanh', 'thoại', 'mobile', '259', 'thực', 'chức', 'năng', 'mỹ', 'miss', 'anna', '58', 'made', 'in', '43', 'café', '38', 'hát', 'cho', 'nhau', 'nghe', '91', 'thành', 'biên', 'lốp', 'ắc', 'quy', 'ôtô', '69', 'castrol', 'bike', 'point', 'vel', 'city', 'phạm', 'thận', 'duật', '385/3', '44', '82/2', '34b-b6', '187/21', '46', '111b', '106', '60', '107', 'thương', 'mại', 'xuất', 'nhập', 'khẩu', 'vật', 'nước', 'cổ', 'phần', 'vsi', 'gà', 'tần', 'bún', 'chả', 'onyx', '14-16b3', '217', '102-a7', '165', '169', '108', '15', '161', 'giặt', 'là', '159', 'a26', '385', '27-b3', 'thuốc', 'hải', '106b', '147', '6', '82/4', 'b7', '103', 'b1', '367', 'b2', 've', '82/6', '104', 'a27', '82/10', '103b', '105', '210/28', 'trẻ', 'em', '116', '132', '111', '2c', '49/16', 'cung', '217/2', '106a', '245', '48/5', '14d', '5/72', '23a', '58/63/21', '1c', '12', '58/35a', 'đăng', 'ninh', '67', '64', '23d', '1/52', '66a', '58/45', '5/78', '101', '76', '58/42', '21b', '20b', '225', 'cô', 'lan', 'quả', 'kẹo', '48/1', '25d', '12b', '55', '30a', '291', 'tô', 'hiệu', 'taxi', 'triệu', 'đạt', 'gara', 'ô', '6-8', '273', '283', '5a2', '39', '275', '7a', '259b', '48/4', '269', '261', '29', '257', '241', '22c', '32b', '52', '28', '152', '60a', 'giải', 'khát', '207', '62', '70', '74', '201', 'thảo', 'huy', 'thao', 'viet', 'ceramics', 'thất', 'iki', 'decor', 'techcombank', '87', 'đại', 'lý', 'vé', 'bay', 'chuỗi', '5s', '59c', 'cá', '3b', '65', 'rửa', 'món', 'huế', '124', '156', '119', 'hàm', '6b', '185', '102', 'thịnh', 'soya', 'garden', 'vàng', 'mã', '177', '65k', 'pooltek', 'tế', '175', 'ngành', 'đức', '68', 'gạch', 'ốp', 'lát', 'vệ', 'song', '93', '209', '144']\n"
          ],
          "name": "stdout"
        }
      ]
    },
    {
      "cell_type": "code",
      "metadata": {
        "id": "oAVbVKV3ZpgG"
      },
      "source": [
        "#get char embedding\n",
        "def read_char_vocab(file_path):\n",
        "  char_vocab = []\n",
        "  for line in open(file_path, encoding='utf-8'):\n",
        "    char_vocab.append(line.splitlines()[0])      \n",
        "  return char_vocab\n",
        "\n",
        "def char_to_int(char_vocab_data):\n",
        "  dic = {}\n",
        "  index = -1\n",
        "  for char in char_vocab_data:\n",
        "    try:\n",
        "      dic[char]\n",
        "    except:\n",
        "      index = index + 1\n",
        "      dic[char]=index\n",
        "  return dic\n",
        " \n",
        "def get_char_encode(sentence,max_length_of_a_sentence,max_length_of_a_word):\n",
        "  char_vocab_data = read_char_vocab(\"/content/drive/MyDrive/data/VISCII_short.txt\")\n",
        "  dic = char_to_int(char_vocab_data)\n",
        "  # sentence  words is a sentence | ['i','am','an']\n",
        "  sentence_encoded = np.zeros([max_length_of_a_sentence,max_length_of_a_word]) # 25*25\n",
        "  for j in range(len(sentence)):  \n",
        "    word = sentence[j].lower()\n",
        "    # integer_encoded = [char_to_int[char] for char in word]\n",
        "    word_encoded = np.zeros(max_length_of_a_word)\n",
        "    for k in range(len(word)):\n",
        "      char = word[k]\n",
        "      try:\n",
        "        word_encoded[k]= dic[char]\n",
        "      except:\n",
        "        print(\"error : \" + str(char)+\" \"+str(word)+\" \"+str(len(word)))\n",
        "        word_encoded[k]= dic['[unk]']\n",
        "    # sentence encoded\n",
        "    sentence_encoded[j] = word_encoded\n",
        "  return sentence_encoded\n",
        "\n",
        "def get_charEmbedd_form_encode(charEnocde):\n",
        "  LEN_OF_VOCAB = 137\n",
        "  shape = charEnocde.shape\n",
        "  char_embedd = np.zeros([shape[0],shape[1],LEN_OF_VOCAB])\n",
        "  for i in range(shape[0]):\n",
        "    for j in range(shape[1]):\n",
        "      char_int = charEnocde[i,j]\n",
        "      char_int = char_int.astype(np.int64)\n",
        "      onehot = np.zeros(LEN_OF_VOCAB)\n",
        "      onehot[char_int] = 1\n",
        "      char_embedd[i,j,:] = onehot\n",
        "  return char_embedd\n",
        "\n",
        "# return onehot_encoded_of_a_sentence"
      ],
      "execution_count": 118,
      "outputs": []
    },
    {
      "cell_type": "code",
      "metadata": {
        "colab": {
          "base_uri": "https://localhost:8080/"
        },
        "id": "QkdZwHxH362H",
        "outputId": "e5fbd37b-c87d-4e45-e9d5-818985566a35"
      },
      "source": [
        "!unzip /content/drive/MyDrive/data/input_output/ngrok-stable-linux-amd64.zip"
      ],
      "execution_count": 14,
      "outputs": [
        {
          "output_type": "stream",
          "text": [
            "Archive:  /content/drive/MyDrive/data/input_output/ngrok-stable-linux-amd64.zip\n",
            "  inflating: ngrok                   \n"
          ],
          "name": "stdout"
        }
      ]
    },
    {
      "cell_type": "code",
      "metadata": {
        "colab": {
          "base_uri": "https://localhost:8080/"
        },
        "id": "BloS0Pnz4UA5",
        "outputId": "1ab0c380-9b57-4097-fc19-459c3836f6aa"
      },
      "source": [
        "!./ngrok authtoken 1qsqOzbDZdLDHX24amcZKpNbMaL_7pzRyPRjA8gFp1pMNY37w"
      ],
      "execution_count": 15,
      "outputs": [
        {
          "output_type": "stream",
          "text": [
            "Authtoken saved to configuration file: /root/.ngrok2/ngrok.yml\n"
          ],
          "name": "stdout"
        }
      ]
    },
    {
      "cell_type": "code",
      "metadata": {
        "id": "1ZBYgyqRmLWL"
      },
      "source": [
        "# f = open(\"/content/drive/MyDrive/data/input_output/version_1/data_test/data_test.txt\", \"r\")\n",
        "# data_test = []\n",
        "# for x in f:\n",
        "#   data_test.append(x)\n",
        "# f.close()"
      ],
      "execution_count": 16,
      "outputs": []
    },
    {
      "cell_type": "code",
      "metadata": {
        "id": "eqDsTwDkohAu"
      },
      "source": [
        "# f = open(\"/content/drive/MyDrive/data/input_output/version_1/data_test/real_data.txt\", \"r\")\n",
        "# real_data = []\n",
        "# for x in f:\n",
        "#   real_data.append(x)\n",
        "# f.close()"
      ],
      "execution_count": 17,
      "outputs": []
    },
    {
      "cell_type": "code",
      "metadata": {
        "colab": {
          "base_uri": "https://localhost:8080/"
        },
        "id": "AT0_ur1lkoR0",
        "outputId": "a6981ed0-2bc8-4f79-ac40-876931602500"
      },
      "source": [
        "# Get data test\n",
        "data_test = []\n",
        "real_data = []\n",
        "with open('/content/drive/MyDrive/data/input_output/version_1/data_test/spelling_error/spelling_error_data_test.csv', encoding='utf-8') as csv_file:\n",
        "    csv_reader = csv.reader(csv_file)\n",
        "    for row in csv_reader:\n",
        "        data_test.append(row[0].lower())\n",
        "        real_data.append(row[1].lower())\n",
        "print(data_test)\n",
        "print(real_data)"
      ],
      "execution_count": 119,
      "outputs": [
        {
          "output_type": "stream",
          "text": [
            "['đường trần thái tông trung hoà cầu dấy hà nội', 'ngõ 195 chung kính trung hoà cầu giấy hà nội', 'ngõ 63 đường xuân thủy trung hoà cầu giấy hà lội', 'ngõ 195 chung kính trung hoà cầu giấy hà nội', 'đường nguyễn tránh trung hoà cầu giấy hà nội', 'đường chần thái tông trung hoà cầu giấy hà nội', 'ngõ 195 trung kính trung hoà cầu giấy hà lội', 'đường trần thái tông trung hoà cầu rấy hà lội', 'đường chần thái tông trung hoà cầu giấy hà nội', 'ngõ 63 đường xuân thủy trung hoà cầu giấy hà nội', 'ngách 43/121 trung kính trung hoà cầu giấy hà nội', 'phố trần quốc hoàn trung hoà cầu rấy hà lội', 'ngõ 63 đường xuân thủy chung hoà cầu giấy hà nội', 'phố trần quốc hoàn trung hoà cầu rấy hà nội', 'ngách 43/121 trung kính trung hoà cầu giấy hà lội', 'đường chần thái tông trung hoà cầu giấy hà nội', 'đường nguyễn tránh trung hoà cầu giấy hà nội', 'ngõ 195 trung kính trung hoà cầu rấy hà nội', 'đường nguyễn chánh trung hoà cầu dấy hà nội', 'ngõ 63 đường xuân thủy trung hoà cầu giấy hà nội', 'ngách 43/113 trung kính trung hoà cầu rấy hà nội', 'ngõ 195 chung kính trung hoà cầu giấy hà nội', 'đường nguyễn chánh chung hoà cầu giấy hà nội', 'ngách 43/113 trung kính trung hoà cầu giấy hà nội', 'đường trần thái tông trung hoà cầu giấy hà lội', 'ngõ 195 chung kính trung hoà cầu giấy hà nội', 'ngõ 2 nguyễn chánh trung hoà cầu giấy hà nội', 'ngõ 2 nguyễn chánh trung hoà cầu giấy hà lội', 'ngõ 63 đường xuân thủy trung hoà cầu giấy hà nội', 'ngách 43/113 trung kính trung hoà cầu dấy hà nội', 'ngõ 2 nguyễn chánh trung hoà cầu giấy hà nội', 'đường trần thái tông trung hoà cầu giấy hà nội', 'ngõ 2 nguyễn chánh trung hoà cầu giấy hà nội', 'ngõ 53 trần quốc hoàn chung hoà cầu rấy hà nội', 'ngõ 41 đường xuân thủy trung hoà cầu giấy hà nội', 'đường dương đình nghệ trung hoà cầu rấy hà nội', 'ngõ 53 trần quốc hoàn chung hoà cầu giấy hà lội', 'ngõ 195 trung kính trung hoà cầu giấy hà nội', 'ngõ 53 chần quốc hoàn trung hoà cầu giấy hà nội', 'ngách 43/113 trung kính trung hoà cầu giấy hà nội', 'đường dương đình nghệ trung hoà cầu rấy hà nội', 'ngõ 2 nguyễn chánh trung hoà cầu giấy hà lội', 'ngõ 195 trung kính trung hoà cầu giấy hà nội', 'đường rương đình nghệ trung hoà cầu giấy hà nội', 'ngõ 195 trung kính trung hoà cầu giấy hà lội', 'ngõ 2 nguyễn chánh trung hoà cầu giấy hà lội', 'ngõ 195 trung kính trung hoà cầu giấy hà nội', 'ngõ 2 nguyễn chánh trung hoà cầu giấy hà nội', 'trung kính trung hoà cầu giấy hà nội', 'ngách 53/15 trần quốc hoàn trung hoà cầu giấy hà nội', 'ngõ 2 nguyễn tránh trung hoà cầu giấy hà nội', 'ngõ 23 đường suân thủy trung hoà cầu giấy hà nội', 'ngách 53/15 trần quốc hoàn chung hoà cầu giấy hà nội', 'trung kính trung hoà cầu dấy hà nội', 'ngõ 85 đường suân thủy trung hoà cầu giấy hà nội', 'ngõ 2 nguyễn chánh trung hoà cầu giấy hà nội', 'trung kính chung hoà cầu rấy hà nội', 'ngách 106/43 chung kính trung hoà cầu giấy hà nội', 'đường dương đình nghệ trung hoà cầu giấy hà nội', 'ngách 106/43 trung kính chung hoà cầu rấy hà nội', 'ngõ 2 nguyễn chánh trung hoà cầu giấy hà nội', 'trung kính trung hoà cầu giấy hà lội', 'ngách 53/15 trần quốc hoàn trung hoà cầu rấy hà nội', 'ngõ 85 đường xuân thủy trung hoà cầu giấy hà lội', 'đường dương đình nghệ trung hoà cầu giấy hà nội', 'trung kính chung hoà cầu giấy hà nội', 'ngõ 85 đường xuân thủy trung hoà cầu giấy hà nội', 'hẻm 181/27/32 đường xuân thủy trung hoà cầu giấy hà nội', 'ngõ 20 nguyễn chánh trung hoà cầu giấy hà nội', 'ngõ 20 nguyễn tránh trung hoà cầu giấy hà nội', 'ngõ 20 nguyễn chánh trung hoà cầu dấy hà lội', 'trung kính trung hoà cầu giấy hà nội', 'trung kính trung hoà cầu rấy hà nội', 'ngõ 37 trần quốc hoàn chung hoà cầu giấy hà nội', 'ngách 106/43 trung kính trung hoà cầu giấy hà nội', 'hẻm 181/27/32 đường xuân thủy trung hoà cầu giấy hà lội', 'ngõ 20 nguyễn chánh chung hoà cầu dấy hà nội', 'trung kính chung hoà cầu giấy hà nội', 'ngõ 85 đường suân thủy trung hoà cầu giấy hà nội', 'ngõ 37 trần quốc hoàn trung hoà cầu giấy hà nội', 'trung kính trung hoà cầu giấy hà lội', 'hẻm 181/27/32 đường xuân thủy trung hoà cầu giấy hà nội', 'ngõ 37 chần quốc hoàn trung hoà cầu giấy hà lội', 'trung kính chung hoà cầu giấy hà nội', 'trung kính trung hoà cầu giấy hà nội', 'trung kính trung hoà cầu giấy hà lội', 'ngách 106/43 trung kính chung hoà cầu giấy hà nội', 'trung kính trung hoà cầu dấy hà nội', 'chung kính trung hoà cầu giấy hà nội', 'ngõ 20 nguyễn chánh trung hoà cầu giấy hà nội', 'ngõ 20 nguyễn chánh trung hoà cầu giấy hà nội', 'ngõ 37 trần quốc hoàn trung hoà cầu giấy hà lội', 'ngõ 37 chần quốc hoàn trung hoà cầu giấy hà nội', 'trung kính trung hoà cầu giấy hà lội', 'ngõ 85 đường xuân thủy trung hoà cầu giấy hà nội', 'hẻm 181/27/32 đường xuân thủy chung hoà cầu giấy hà nội', 'trung kính trung hoà cầu dấy hà nội', 'ngách 106/43 chung kính trung hoà cầu giấy hà nội', 'trung kính trung hoà cầu giấy hà lội', 'hẻm 181/27/32 đường xuân thủy trung hoà cầu giấy hà nội', 'ngõ 20 nguyễn chánh chung hoà cầu giấy hà nội', 'hẻm 181/27/32 đường xuân thủy trung hoà cầu giấy hà nội', 'ngách 106/43 chung kính trung hoà cầu giấy hà nội', 'ngõ 31 trần quốc hoàn trung hoà cầu giấy hà nội', 'ngõ 85 đường xuân thủy trung hoà cầu giấy hà nội', 'ngõ 31 chần quốc hoàn trung hoà cầu giấy hà nội', 'ngõ 20 nguyễn tránh trung hoà cầu giấy hà nội', 'ngõ 20 nguyễn chánh chung hoà cầu giấy hà nội', 'hẻm 181/27/32 đường xuân thủy trung hoà cầu giấy hà nội', 'ngõ 20 nguyễn chánh trung hoà cầu giấy hà nội', 'hẻm 181/27/32 đường xuân thủy trung hoà cầu giấy hà lội', 'ngõ 31 trần quốc hoàn trung hoà cầu rấy hà nội', 'hẻm 181/27/32 đường xuân thủy chung hoà cầu giấy hà nội', 'ngách 106/43 trung kính chung hoà cầu giấy hà nội', 'ngách 106/43 trung kính trung hoà cầu giấy hà nội', 'ngõ 31 trần quốc hoàn trung hoà cầu giấy hà nội', 'hẻm 181/27/32 đường xuân thủy trung hoà cầu dấy hà nội', 'trung kính trung hoà cầu giấy hà lội', 'ngõ 20 nguyễn chánh chung hoà cầu giấy hà lội', 'ngõ 85 đường suân thủy trung hoà cầu giấy hà nội', 'ngõ 31 chần quốc hoàn trung hoà cầu giấy hà nội', 'đường mạc thái tông trung hoà cầu giấy hà nội', 'ngõ 31 trần quốc hoàn trung hoà cầu giấy hà nội', 'trung kính chung hoà cầu giấy hà nội', 'đường mạc thái tông chung hoà cầu giấy hà nội', 'ngách 31/26 chần quốc hoàn chung hoà cầu giấy hà nội', 'ngõ 85 đường xuân thủy trung hoà cầu giấy hà nội', 'hẻm 181/27/32/18 đường xuân thủy trung hoà cầu giấy hà nội', 'ngõ 123 trung kính chung hoà cầu giấy hà nội', 'ngõ 85 đường xuân thủy trung hoà cầu rấy hà nội', 'ngõ 85 đường suân thủy trung hoà cầu giấy hà nội', 'đường mạc thái tông trung hoà cầu giấy hà nội', 'đường mạc thái tông trung hoà cầu giấy hà nội', 'trung kính chung hoà cầu giấy hà nội', 'ngõ 123 trung kính trung hoà cầu giấy hà nội', 'đường mạc thái tông trung hoà cầu giấy hà nội', 'ngõ 123 trung kính trung hoà cầu rấy hà nội', 'đường mạc thái tông chung hoà cầu giấy hà lội', 'chung kính trung hoà cầu giấy hà nội', 'ngách 31/26 trần quốc hoàn trung hoà cầu giấy hà nội', 'đường mạc thái tông chung hoà cầu giấy hà nội', 'trung kính trung hoà cầu giấy hà nội', 'hẻm 181/27/32/18 đường xuân thủy trung hoà cầu giấy hà nội', 'ngách 31/22 trần quốc hoàn trung hoà cầu giấy hà nội', 'trung kính trung hoà cầu rấy hà nội', 'ngõ 123 chung kính trung hoà cầu rấy hà nội', 'trung kính trung hoà cầu rấy hà nội', 'ngách 20/5 nguyễn chánh chung hoà cầu giấy hà nội', 'hẻm 181/27/32 đường xuân thủy trung hoà cầu giấy hà nội', 'ngách 181/27 đường xuân thủy trung hoà cầu giấy hà nội', 'trung kính trung hoà cầu dấy hà nội', 'ngách 20/5 nguyễn chánh trung hoà cầu giấy hà lội', 'ngách 31/22 trần quốc hoàn trung hoà cầu giấy hà nội', 'ngách 20/5 nguyễn chánh trung hoà cầu giấy hà lội', 'ngách 181/27 đường xuân thủy trung hoà cầu giấy hà nội', 'ngõ 193 chung kính trung hoà cầu giấy hà nội', 'ngõ 123 trung kính chung hoà cầu giấy hà nội', 'ngách 20/5 nguyễn tránh yên hoà cầu giấy hà nội', 'ngõ 123 trung kính trung hoà cầu giấy hà nội', 'ngõ 85 đường suân thủy trung hoà cầu rấy hà nội', 'ngách 31/18 chần quốc hoàn trung hoà cầu giấy hà nội', 'hẻm 181/27/10 đường xuân thủy trung hoà cầu giấy hà nội', 'ngõ 48 nguyễn chánh chung hoà cầu giấy hà nội', 'ngõ 48 nguyễn chánh trung hoà cầu giấy hà nội', 'ngách 31/12 chần quốc hoàn trung hoà cầu giấy hà nội', 'ngõ 193 trung kính trung hoà cầu giấy hà nội', 'ngõ 123 trung kính chung hoà cầu giấy hà nội', 'ngõ 85 đường xuân thủy chung hoà cầu giấy hà nội', 'ngõ 48 nguyễn chánh trung hoà cầu giấy hà nội', 'ngách 31/12 trần quốc hoàn trung hoà cầu giấy hà nội', 'ngõ 193 chung kính trung hoà cầu giấy hà nội', 'ngõ 123 trung kính chung hoà cầu giấy hà nội', 'ngách 20/5 nguyễn chánh chung hoà cầu giấy hà nội', 'ngách 31/22 trần quốc hoàn yên hoà cầu giấy hà lội', 'hẻm 85/24/10 đường xuân thủy trung hoà cầu giấy hà nội', 'ngách 31/22 chần quốc hoàn trung hoà cầu giấy hà lội', 'ngõ 123 chung kính trung hoà cầu giấy hà nội', 'hẻm 85/24/10 đường xuân thủy yên hoà cầu giấy hà nội', 'ngách 181/27 đường xuân thủy trung hoà cầu giấy hà lội', 'đường hoàng minh giám trung hoà cầu dấy hà nội', 'phố doãn kế thiện mai dịch cầu giấy hà nội', 'ngõ 445 lạc nong quân nghĩa đô cầu giấy hà nội', 'ngõ 2 nguyễn chánh trung hoà cầu giấy hà nội', 'đường giao lộ đoạn quay đầu võ chí công nghĩa đô cầu giấy hà nội', 'ngõ 445 lạc long quân nghĩa đô cầu giấy hà nội', 'đường nguyễn ngọc vũ trung hoà cầu giấy hà nội', 'phố nguyễn thị định trung hoà cầu giấy hà nội', 'phố dương đình nghệ yên hoà cầu giấy hà nội', 'đường võ chí công nghĩa đô cầu giấy hà nội', 'đường lê văn nương trung hoà cầu giấy hà nội', 'phố hoàng ngân trung hoà cầu giấy hà nội', 'ngõ 10 nguyễn thị định trung hoà cầu giấy hà lội', 'ngách 34/4 nguyễn thị định trung hoà cầu giấy hà nội', 'ngách 41 chần duy hưng trung hoà cầu giấy hà nội', '71 trung hoà cầu giấy hà lội', '4 nô 14a trung hoà cầu giấy hà nội', 'ngách 106/43 trung kính trung hoà cầu giấy hà nội', 'đường xuân thủy dịch vọng hậu cầu dấy hà lội', 'phố nghĩa tân nghĩa tân cầu rấy hà nội', 'đường 800a nghĩa đô cầu giấy hà nội', '144 xuân thủy cầu giấy hà nội', '144 xuân thủy rịch vọng hậu cầu giấy hà nội']\n",
            "['đường trần thái tông trung hoà cầu giấy hà nội', 'ngõ 195 trung kính trung hoà cầu giấy hà nội', 'ngõ 63 đường xuân thủy trung hoà cầu giấy hà nội', 'ngõ 195 trung kính trung hoà cầu giấy hà nội', 'đường nguyễn chánh trung hoà cầu giấy hà nội', 'đường trần thái tông trung hoà cầu giấy hà nội', 'ngõ 195 trung kính trung hoà cầu giấy hà nội', 'đường trần thái tông trung hoà cầu giấy hà nội', 'đường trần thái tông trung hoà cầu giấy hà nội', 'ngõ 63 đường xuân thủy trung hoà cầu giấy hà nội', 'ngách 43/121 trung kính trung hoà cầu giấy hà nội', 'phố trần quốc hoàn trung hoà cầu giấy hà nội', 'ngõ 63 đường xuân thủy trung hoà cầu giấy hà nội', 'phố trần quốc hoàn trung hoà cầu giấy hà nội', 'ngách 43/121 trung kính trung hoà cầu giấy hà nội', 'đường trần thái tông trung hoà cầu giấy hà nội', 'đường nguyễn chánh trung hoà cầu giấy hà nội', 'ngõ 195 trung kính trung hoà cầu giấy hà nội', 'đường nguyễn chánh trung hoà cầu giấy hà nội', 'ngõ 63 đường xuân thủy trung hoà cầu giấy hà nội', 'ngách 43/113 trung kính trung hoà cầu giấy hà nội', 'ngõ 195 trung kính trung hoà cầu giấy hà nội', 'đường nguyễn chánh trung hoà cầu giấy hà nội', 'ngách 43/113 trung kính trung hoà cầu giấy hà nội', 'đường trần thái tông trung hoà cầu giấy hà nội', 'ngõ 195 trung kính trung hoà cầu giấy hà nội', 'ngõ 2 nguyễn chánh trung hoà cầu giấy hà nội', 'ngõ 2 nguyễn chánh trung hoà cầu giấy hà nội', 'ngõ 63 đường xuân thủy trung hoà cầu giấy hà nội', 'ngách 43/113 trung kính trung hoà cầu giấy hà nội', 'ngõ 2 nguyễn chánh trung hoà cầu giấy hà nội', 'đường trần thái tông trung hoà cầu giấy hà nội', 'ngõ 2 nguyễn chánh trung hoà cầu giấy hà nội', 'ngõ 53 trần quốc hoàn trung hoà cầu giấy hà nội', 'ngõ 41 đường xuân thủy trung hoà cầu giấy hà nội', 'đường dương đình nghệ trung hoà cầu giấy hà nội', 'ngõ 53 trần quốc hoàn trung hoà cầu giấy hà nội', 'ngõ 195 trung kính trung hoà cầu giấy hà nội', 'ngõ 53 trần quốc hoàn trung hoà cầu giấy hà nội', 'ngách 43/113 trung kính trung hoà cầu giấy hà nội', 'đường dương đình nghệ trung hoà cầu giấy hà nội', 'ngõ 2 nguyễn chánh trung hoà cầu giấy hà nội', 'ngõ 195 trung kính trung hoà cầu giấy hà nội', 'đường dương đình nghệ trung hoà cầu giấy hà nội', 'ngõ 195 trung kính trung hoà cầu giấy hà nội', 'ngõ 2 nguyễn chánh trung hoà cầu giấy hà nội', 'ngõ 195 trung kính trung hoà cầu giấy hà nội', 'ngõ 2 nguyễn chánh trung hoà cầu giấy hà nội', 'trung kính trung hoà cầu giấy hà nội', 'ngách 53/15 trần quốc hoàn trung hoà cầu giấy hà nội', 'ngõ 2 nguyễn chánh trung hoà cầu giấy hà nội', 'ngõ 23 đường xuân thủy trung hoà cầu giấy hà nội', 'ngách 53/15 trần quốc hoàn trung hoà cầu giấy hà nội', 'trung kính trung hoà cầu giấy hà nội', 'ngõ 85 đường xuân thủy trung hoà cầu giấy hà nội', 'ngõ 2 nguyễn chánh trung hoà cầu giấy hà nội', 'trung kính trung hoà cầu giấy hà nội', 'ngách 106/43 trung kính trung hoà cầu giấy hà nội', 'đường dương đình nghệ trung hoà cầu giấy hà nội', 'ngách 106/43 trung kính trung hoà cầu giấy hà nội', 'ngõ 2 nguyễn chánh trung hoà cầu giấy hà nội', 'trung kính trung hoà cầu giấy hà nội', 'ngách 53/15 trần quốc hoàn trung hoà cầu giấy hà nội', 'ngõ 85 đường xuân thủy trung hoà cầu giấy hà nội', 'đường dương đình nghệ trung hoà cầu giấy hà nội', 'trung kính trung hoà cầu giấy hà nội', 'ngõ 85 đường xuân thủy trung hoà cầu giấy hà nội', 'hẻm 181/27/32 đường xuân thủy trung hoà cầu giấy hà nội', 'ngõ 20 nguyễn chánh trung hoà cầu giấy hà nội', 'ngõ 20 nguyễn chánh trung hoà cầu giấy hà nội', 'ngõ 20 nguyễn chánh trung hoà cầu giấy hà nội', 'trung kính trung hoà cầu giấy hà nội', 'trung kính trung hoà cầu giấy hà nội', 'ngõ 37 trần quốc hoàn trung hoà cầu giấy hà nội', 'ngách 106/43 trung kính trung hoà cầu giấy hà nội', 'hẻm 181/27/32 đường xuân thủy trung hoà cầu giấy hà nội', 'ngõ 20 nguyễn chánh trung hoà cầu giấy hà nội', 'trung kính trung hoà cầu giấy hà nội', 'ngõ 85 đường xuân thủy trung hoà cầu giấy hà nội', 'ngõ 37 trần quốc hoàn trung hoà cầu giấy hà nội', 'trung kính trung hoà cầu giấy hà nội', 'hẻm 181/27/32 đường xuân thủy trung hoà cầu giấy hà nội', 'ngõ 37 trần quốc hoàn trung hoà cầu giấy hà nội', 'trung kính trung hoà cầu giấy hà nội', 'trung kính trung hoà cầu giấy hà nội', 'trung kính trung hoà cầu giấy hà nội', 'ngách 106/43 trung kính trung hoà cầu giấy hà nội', 'trung kính trung hoà cầu giấy hà nội', 'trung kính trung hoà cầu giấy hà nội', 'ngõ 20 nguyễn chánh trung hoà cầu giấy hà nội', 'ngõ 20 nguyễn chánh trung hoà cầu giấy hà nội', 'ngõ 37 trần quốc hoàn trung hoà cầu giấy hà nội', 'ngõ 37 trần quốc hoàn trung hoà cầu giấy hà nội', 'trung kính trung hoà cầu giấy hà nội', 'ngõ 85 đường xuân thủy trung hoà cầu giấy hà nội', 'hẻm 181/27/32 đường xuân thủy trung hoà cầu giấy hà nội', 'trung kính trung hoà cầu giấy hà nội', 'ngách 106/43 trung kính trung hoà cầu giấy hà nội', 'trung kính trung hoà cầu giấy hà nội', 'hẻm 181/27/32 đường xuân thủy trung hoà cầu giấy hà nội', 'ngõ 20 nguyễn chánh trung hoà cầu giấy hà nội', 'hẻm 181/27/32 đường xuân thủy trung hoà cầu giấy hà nội', 'ngách 106/43 trung kính trung hoà cầu giấy hà nội', 'ngõ 31 trần quốc hoàn trung hoà cầu giấy hà nội', 'ngõ 85 đường xuân thủy trung hoà cầu giấy hà nội', 'ngõ 31 trần quốc hoàn trung hoà cầu giấy hà nội', 'ngõ 20 nguyễn chánh trung hoà cầu giấy hà nội', 'ngõ 20 nguyễn chánh trung hoà cầu giấy hà nội', 'hẻm 181/27/32 đường xuân thủy trung hoà cầu giấy hà nội', 'ngõ 20 nguyễn chánh trung hoà cầu giấy hà nội', 'hẻm 181/27/32 đường xuân thủy trung hoà cầu giấy hà nội', 'ngõ 31 trần quốc hoàn trung hoà cầu giấy hà nội', 'hẻm 181/27/32 đường xuân thủy trung hoà cầu giấy hà nội', 'ngách 106/43 trung kính trung hoà cầu giấy hà nội', 'ngách 106/43 trung kính trung hoà cầu giấy hà nội', 'ngõ 31 trần quốc hoàn trung hoà cầu giấy hà nội', 'hẻm 181/27/32 đường xuân thủy trung hoà cầu giấy hà nội', 'trung kính trung hoà cầu giấy hà nội', 'ngõ 20 nguyễn chánh trung hoà cầu giấy hà nội', 'ngõ 85 đường xuân thủy trung hoà cầu giấy hà nội', 'ngõ 31 trần quốc hoàn trung hoà cầu giấy hà nội', 'đường mạc thái tông trung hoà cầu giấy hà nội', 'ngõ 31 trần quốc hoàn trung hoà cầu giấy hà nội', 'trung kính trung hoà cầu giấy hà nội', 'đường mạc thái tông trung hoà cầu giấy hà nội', 'ngách 31/26 trần quốc hoàn trung hoà cầu giấy hà nội', 'ngõ 85 đường xuân thủy trung hoà cầu giấy hà nội', 'hẻm 181/27/32/18 đường xuân thủy trung hoà cầu giấy hà nội', 'ngõ 123 trung kính trung hoà cầu giấy hà nội', 'ngõ 85 đường xuân thủy trung hoà cầu giấy hà nội', 'ngõ 85 đường xuân thủy trung hoà cầu giấy hà nội', 'đường mạc thái tông trung hoà cầu giấy hà nội', 'đường mạc thái tông trung hoà cầu giấy hà nội', 'trung kính trung hoà cầu giấy hà nội', 'ngõ 123 trung kính trung hoà cầu giấy hà nội', 'đường mạc thái tông trung hoà cầu giấy hà nội', 'ngõ 123 trung kính trung hoà cầu giấy hà nội', 'đường mạc thái tông trung hoà cầu giấy hà nội', 'trung kính trung hoà cầu giấy hà nội', 'ngách 31/26 trần quốc hoàn trung hoà cầu giấy hà nội', 'đường mạc thái tông trung hoà cầu giấy hà nội', 'trung kính trung hoà cầu giấy hà nội', 'hẻm 181/27/32/18 đường xuân thủy trung hoà cầu giấy hà nội', 'ngách 31/22 trần quốc hoàn trung hoà cầu giấy hà nội', 'trung kính trung hoà cầu giấy hà nội', 'ngõ 123 trung kính trung hoà cầu giấy hà nội', 'trung kính trung hoà cầu giấy hà nội', 'ngách 20/5 nguyễn chánh trung hoà cầu giấy hà nội', 'hẻm 181/27/32 đường xuân thủy trung hoà cầu giấy hà nội', 'ngách 181/27 đường xuân thủy trung hoà cầu giấy hà nội', 'trung kính trung hoà cầu giấy hà nội', 'ngách 20/5 nguyễn chánh trung hoà cầu giấy hà nội', 'ngách 31/22 trần quốc hoàn trung hoà cầu giấy hà nội', 'ngách 20/5 nguyễn chánh trung hoà cầu giấy hà nội', 'ngách 181/27 đường xuân thủy trung hoà cầu giấy hà nội', 'ngõ 193 trung kính trung hoà cầu giấy hà nội', 'ngõ 123 trung kính trung hoà cầu giấy hà nội', 'ngách 20/5 nguyễn chánh yên hoà cầu giấy hà nội', 'ngõ 123 trung kính trung hoà cầu giấy hà nội', 'ngõ 85 đường xuân thủy trung hoà cầu giấy hà nội', 'ngách 31/18 trần quốc hoàn trung hoà cầu giấy hà nội', 'hẻm 181/27/10 đường xuân thủy trung hoà cầu giấy hà nội', 'ngõ 48 nguyễn chánh trung hoà cầu giấy hà nội', 'ngõ 48 nguyễn chánh trung hoà cầu giấy hà nội', 'ngách 31/12 trần quốc hoàn trung hoà cầu giấy hà nội', 'ngõ 193 trung kính trung hoà cầu giấy hà nội', 'ngõ 123 trung kính trung hoà cầu giấy hà nội', 'ngõ 85 đường xuân thủy trung hoà cầu giấy hà nội', 'ngõ 48 nguyễn chánh trung hoà cầu giấy hà nội', 'ngách 31/12 trần quốc hoàn trung hoà cầu giấy hà nội', 'ngõ 193 trung kính trung hoà cầu giấy hà nội', 'ngõ 123 trung kính trung hoà cầu giấy hà nội', 'ngách 20/5 nguyễn chánh trung hoà cầu giấy hà nội', 'ngách 31/22 trần quốc hoàn yên hoà cầu giấy hà nội', 'hẻm 85/24/10 đường xuân thủy trung hoà cầu giấy hà nội', 'ngách 31/22 trần quốc hoàn trung hoà cầu giấy hà nội', 'ngõ 123 trung kính trung hoà cầu giấy hà nội', 'hẻm 85/24/10 đường xuân thủy yên hoà cầu giấy hà nội', 'ngách 181/27 đường xuân thủy trung hoà cầu giấy hà nội', 'đường hoàng minh giám trung hoà cầu giấy hà nội', 'phố doãn kế thiện mai dịch cầu giấy hà nội', 'ngõ 445 lạc long quân nghĩa đô cầu giấy hà nội', 'ngõ 2 nguyễn chánh trung hoà cầu giấy hà nội', 'đường giao lộ đoạn quay đầu võ chí công nghĩa đô cầu giấy hà nội', 'ngõ 445 lạc long quân nghĩa đô cầu giấy hà nội', 'đường nguyễn ngọc vũ trung hoà cầu giấy hà nội', 'phố nguyễn thị định trung hoà cầu giấy hà nội', 'phố dương đình nghệ yên hoà cầu giấy hà nội', 'đường võ chí công nghĩa đô cầu giấy hà nội', 'đường lê văn lương trung hoà cầu giấy hà nội', 'phố hoàng ngân trung hoà cầu giấy hà nội', 'ngõ 10 nguyễn thị định trung hoà cầu giấy hà nội', 'ngách 34/4 nguyễn thị định trung hoà cầu giấy hà nội', 'ngách 41 trần duy hưng trung hoà cầu giấy hà nội', '71 trung hoà cầu giấy hà nội', '4 lô 14a trung hoà cầu giấy hà nội', 'ngách 106/43 trung kính trung hoà cầu giấy hà nội', 'đường xuân thủy dịch vọng hậu cầu giấy hà nội', 'phố nghĩa tân nghĩa tân cầu giấy hà nội', 'đường 800a nghĩa đô cầu giấy hà nội', '144 xuân thủy cầu giấy hà nội', '144 xuân thủy dịch vọng hậu cầu giấy hà nội']\n"
          ],
          "name": "stdout"
        }
      ]
    },
    {
      "cell_type": "code",
      "metadata": {
        "colab": {
          "base_uri": "https://localhost:8080/"
        },
        "id": "qH7zvw75tPh8",
        "outputId": "20d72ef7-9f28-4f6e-a347-40428bb32585"
      },
      "source": [
        "token_real_data = []\n",
        "token_data_test = []\n",
        "for i in range(len(real_data)):\n",
        "  token_real_data.append(real_data[i].split())\n",
        "  token_data_test.append(data_test[i].split())\n",
        "print(token_real_data)\n",
        "print(token_data_test)"
      ],
      "execution_count": 120,
      "outputs": [
        {
          "output_type": "stream",
          "text": [
            "[['đường', 'trần', 'thái', 'tông', 'trung', 'hoà', 'cầu', 'giấy', 'hà', 'nội'], ['ngõ', '195', 'trung', 'kính', 'trung', 'hoà', 'cầu', 'giấy', 'hà', 'nội'], ['ngõ', '63', 'đường', 'xuân', 'thủy', 'trung', 'hoà', 'cầu', 'giấy', 'hà', 'nội'], ['ngõ', '195', 'trung', 'kính', 'trung', 'hoà', 'cầu', 'giấy', 'hà', 'nội'], ['đường', 'nguyễn', 'chánh', 'trung', 'hoà', 'cầu', 'giấy', 'hà', 'nội'], ['đường', 'trần', 'thái', 'tông', 'trung', 'hoà', 'cầu', 'giấy', 'hà', 'nội'], ['ngõ', '195', 'trung', 'kính', 'trung', 'hoà', 'cầu', 'giấy', 'hà', 'nội'], ['đường', 'trần', 'thái', 'tông', 'trung', 'hoà', 'cầu', 'giấy', 'hà', 'nội'], ['đường', 'trần', 'thái', 'tông', 'trung', 'hoà', 'cầu', 'giấy', 'hà', 'nội'], ['ngõ', '63', 'đường', 'xuân', 'thủy', 'trung', 'hoà', 'cầu', 'giấy', 'hà', 'nội'], ['ngách', '43/121', 'trung', 'kính', 'trung', 'hoà', 'cầu', 'giấy', 'hà', 'nội'], ['phố', 'trần', 'quốc', 'hoàn', 'trung', 'hoà', 'cầu', 'giấy', 'hà', 'nội'], ['ngõ', '63', 'đường', 'xuân', 'thủy', 'trung', 'hoà', 'cầu', 'giấy', 'hà', 'nội'], ['phố', 'trần', 'quốc', 'hoàn', 'trung', 'hoà', 'cầu', 'giấy', 'hà', 'nội'], ['ngách', '43/121', 'trung', 'kính', 'trung', 'hoà', 'cầu', 'giấy', 'hà', 'nội'], ['đường', 'trần', 'thái', 'tông', 'trung', 'hoà', 'cầu', 'giấy', 'hà', 'nội'], ['đường', 'nguyễn', 'chánh', 'trung', 'hoà', 'cầu', 'giấy', 'hà', 'nội'], ['ngõ', '195', 'trung', 'kính', 'trung', 'hoà', 'cầu', 'giấy', 'hà', 'nội'], ['đường', 'nguyễn', 'chánh', 'trung', 'hoà', 'cầu', 'giấy', 'hà', 'nội'], ['ngõ', '63', 'đường', 'xuân', 'thủy', 'trung', 'hoà', 'cầu', 'giấy', 'hà', 'nội'], ['ngách', '43/113', 'trung', 'kính', 'trung', 'hoà', 'cầu', 'giấy', 'hà', 'nội'], ['ngõ', '195', 'trung', 'kính', 'trung', 'hoà', 'cầu', 'giấy', 'hà', 'nội'], ['đường', 'nguyễn', 'chánh', 'trung', 'hoà', 'cầu', 'giấy', 'hà', 'nội'], ['ngách', '43/113', 'trung', 'kính', 'trung', 'hoà', 'cầu', 'giấy', 'hà', 'nội'], ['đường', 'trần', 'thái', 'tông', 'trung', 'hoà', 'cầu', 'giấy', 'hà', 'nội'], ['ngõ', '195', 'trung', 'kính', 'trung', 'hoà', 'cầu', 'giấy', 'hà', 'nội'], ['ngõ', '2', 'nguyễn', 'chánh', 'trung', 'hoà', 'cầu', 'giấy', 'hà', 'nội'], ['ngõ', '2', 'nguyễn', 'chánh', 'trung', 'hoà', 'cầu', 'giấy', 'hà', 'nội'], ['ngõ', '63', 'đường', 'xuân', 'thủy', 'trung', 'hoà', 'cầu', 'giấy', 'hà', 'nội'], ['ngách', '43/113', 'trung', 'kính', 'trung', 'hoà', 'cầu', 'giấy', 'hà', 'nội'], ['ngõ', '2', 'nguyễn', 'chánh', 'trung', 'hoà', 'cầu', 'giấy', 'hà', 'nội'], ['đường', 'trần', 'thái', 'tông', 'trung', 'hoà', 'cầu', 'giấy', 'hà', 'nội'], ['ngõ', '2', 'nguyễn', 'chánh', 'trung', 'hoà', 'cầu', 'giấy', 'hà', 'nội'], ['ngõ', '53', 'trần', 'quốc', 'hoàn', 'trung', 'hoà', 'cầu', 'giấy', 'hà', 'nội'], ['ngõ', '41', 'đường', 'xuân', 'thủy', 'trung', 'hoà', 'cầu', 'giấy', 'hà', 'nội'], ['đường', 'dương', 'đình', 'nghệ', 'trung', 'hoà', 'cầu', 'giấy', 'hà', 'nội'], ['ngõ', '53', 'trần', 'quốc', 'hoàn', 'trung', 'hoà', 'cầu', 'giấy', 'hà', 'nội'], ['ngõ', '195', 'trung', 'kính', 'trung', 'hoà', 'cầu', 'giấy', 'hà', 'nội'], ['ngõ', '53', 'trần', 'quốc', 'hoàn', 'trung', 'hoà', 'cầu', 'giấy', 'hà', 'nội'], ['ngách', '43/113', 'trung', 'kính', 'trung', 'hoà', 'cầu', 'giấy', 'hà', 'nội'], ['đường', 'dương', 'đình', 'nghệ', 'trung', 'hoà', 'cầu', 'giấy', 'hà', 'nội'], ['ngõ', '2', 'nguyễn', 'chánh', 'trung', 'hoà', 'cầu', 'giấy', 'hà', 'nội'], ['ngõ', '195', 'trung', 'kính', 'trung', 'hoà', 'cầu', 'giấy', 'hà', 'nội'], ['đường', 'dương', 'đình', 'nghệ', 'trung', 'hoà', 'cầu', 'giấy', 'hà', 'nội'], ['ngõ', '195', 'trung', 'kính', 'trung', 'hoà', 'cầu', 'giấy', 'hà', 'nội'], ['ngõ', '2', 'nguyễn', 'chánh', 'trung', 'hoà', 'cầu', 'giấy', 'hà', 'nội'], ['ngõ', '195', 'trung', 'kính', 'trung', 'hoà', 'cầu', 'giấy', 'hà', 'nội'], ['ngõ', '2', 'nguyễn', 'chánh', 'trung', 'hoà', 'cầu', 'giấy', 'hà', 'nội'], ['trung', 'kính', 'trung', 'hoà', 'cầu', 'giấy', 'hà', 'nội'], ['ngách', '53/15', 'trần', 'quốc', 'hoàn', 'trung', 'hoà', 'cầu', 'giấy', 'hà', 'nội'], ['ngõ', '2', 'nguyễn', 'chánh', 'trung', 'hoà', 'cầu', 'giấy', 'hà', 'nội'], ['ngõ', '23', 'đường', 'xuân', 'thủy', 'trung', 'hoà', 'cầu', 'giấy', 'hà', 'nội'], ['ngách', '53/15', 'trần', 'quốc', 'hoàn', 'trung', 'hoà', 'cầu', 'giấy', 'hà', 'nội'], ['trung', 'kính', 'trung', 'hoà', 'cầu', 'giấy', 'hà', 'nội'], ['ngõ', '85', 'đường', 'xuân', 'thủy', 'trung', 'hoà', 'cầu', 'giấy', 'hà', 'nội'], ['ngõ', '2', 'nguyễn', 'chánh', 'trung', 'hoà', 'cầu', 'giấy', 'hà', 'nội'], ['trung', 'kính', 'trung', 'hoà', 'cầu', 'giấy', 'hà', 'nội'], ['ngách', '106/43', 'trung', 'kính', 'trung', 'hoà', 'cầu', 'giấy', 'hà', 'nội'], ['đường', 'dương', 'đình', 'nghệ', 'trung', 'hoà', 'cầu', 'giấy', 'hà', 'nội'], ['ngách', '106/43', 'trung', 'kính', 'trung', 'hoà', 'cầu', 'giấy', 'hà', 'nội'], ['ngõ', '2', 'nguyễn', 'chánh', 'trung', 'hoà', 'cầu', 'giấy', 'hà', 'nội'], ['trung', 'kính', 'trung', 'hoà', 'cầu', 'giấy', 'hà', 'nội'], ['ngách', '53/15', 'trần', 'quốc', 'hoàn', 'trung', 'hoà', 'cầu', 'giấy', 'hà', 'nội'], ['ngõ', '85', 'đường', 'xuân', 'thủy', 'trung', 'hoà', 'cầu', 'giấy', 'hà', 'nội'], ['đường', 'dương', 'đình', 'nghệ', 'trung', 'hoà', 'cầu', 'giấy', 'hà', 'nội'], ['trung', 'kính', 'trung', 'hoà', 'cầu', 'giấy', 'hà', 'nội'], ['ngõ', '85', 'đường', 'xuân', 'thủy', 'trung', 'hoà', 'cầu', 'giấy', 'hà', 'nội'], ['hẻm', '181/27/32', 'đường', 'xuân', 'thủy', 'trung', 'hoà', 'cầu', 'giấy', 'hà', 'nội'], ['ngõ', '20', 'nguyễn', 'chánh', 'trung', 'hoà', 'cầu', 'giấy', 'hà', 'nội'], ['ngõ', '20', 'nguyễn', 'chánh', 'trung', 'hoà', 'cầu', 'giấy', 'hà', 'nội'], ['ngõ', '20', 'nguyễn', 'chánh', 'trung', 'hoà', 'cầu', 'giấy', 'hà', 'nội'], ['trung', 'kính', 'trung', 'hoà', 'cầu', 'giấy', 'hà', 'nội'], ['trung', 'kính', 'trung', 'hoà', 'cầu', 'giấy', 'hà', 'nội'], ['ngõ', '37', 'trần', 'quốc', 'hoàn', 'trung', 'hoà', 'cầu', 'giấy', 'hà', 'nội'], ['ngách', '106/43', 'trung', 'kính', 'trung', 'hoà', 'cầu', 'giấy', 'hà', 'nội'], ['hẻm', '181/27/32', 'đường', 'xuân', 'thủy', 'trung', 'hoà', 'cầu', 'giấy', 'hà', 'nội'], ['ngõ', '20', 'nguyễn', 'chánh', 'trung', 'hoà', 'cầu', 'giấy', 'hà', 'nội'], ['trung', 'kính', 'trung', 'hoà', 'cầu', 'giấy', 'hà', 'nội'], ['ngõ', '85', 'đường', 'xuân', 'thủy', 'trung', 'hoà', 'cầu', 'giấy', 'hà', 'nội'], ['ngõ', '37', 'trần', 'quốc', 'hoàn', 'trung', 'hoà', 'cầu', 'giấy', 'hà', 'nội'], ['trung', 'kính', 'trung', 'hoà', 'cầu', 'giấy', 'hà', 'nội'], ['hẻm', '181/27/32', 'đường', 'xuân', 'thủy', 'trung', 'hoà', 'cầu', 'giấy', 'hà', 'nội'], ['ngõ', '37', 'trần', 'quốc', 'hoàn', 'trung', 'hoà', 'cầu', 'giấy', 'hà', 'nội'], ['trung', 'kính', 'trung', 'hoà', 'cầu', 'giấy', 'hà', 'nội'], ['trung', 'kính', 'trung', 'hoà', 'cầu', 'giấy', 'hà', 'nội'], ['trung', 'kính', 'trung', 'hoà', 'cầu', 'giấy', 'hà', 'nội'], ['ngách', '106/43', 'trung', 'kính', 'trung', 'hoà', 'cầu', 'giấy', 'hà', 'nội'], ['trung', 'kính', 'trung', 'hoà', 'cầu', 'giấy', 'hà', 'nội'], ['trung', 'kính', 'trung', 'hoà', 'cầu', 'giấy', 'hà', 'nội'], ['ngõ', '20', 'nguyễn', 'chánh', 'trung', 'hoà', 'cầu', 'giấy', 'hà', 'nội'], ['ngõ', '20', 'nguyễn', 'chánh', 'trung', 'hoà', 'cầu', 'giấy', 'hà', 'nội'], ['ngõ', '37', 'trần', 'quốc', 'hoàn', 'trung', 'hoà', 'cầu', 'giấy', 'hà', 'nội'], ['ngõ', '37', 'trần', 'quốc', 'hoàn', 'trung', 'hoà', 'cầu', 'giấy', 'hà', 'nội'], ['trung', 'kính', 'trung', 'hoà', 'cầu', 'giấy', 'hà', 'nội'], ['ngõ', '85', 'đường', 'xuân', 'thủy', 'trung', 'hoà', 'cầu', 'giấy', 'hà', 'nội'], ['hẻm', '181/27/32', 'đường', 'xuân', 'thủy', 'trung', 'hoà', 'cầu', 'giấy', 'hà', 'nội'], ['trung', 'kính', 'trung', 'hoà', 'cầu', 'giấy', 'hà', 'nội'], ['ngách', '106/43', 'trung', 'kính', 'trung', 'hoà', 'cầu', 'giấy', 'hà', 'nội'], ['trung', 'kính', 'trung', 'hoà', 'cầu', 'giấy', 'hà', 'nội'], ['hẻm', '181/27/32', 'đường', 'xuân', 'thủy', 'trung', 'hoà', 'cầu', 'giấy', 'hà', 'nội'], ['ngõ', '20', 'nguyễn', 'chánh', 'trung', 'hoà', 'cầu', 'giấy', 'hà', 'nội'], ['hẻm', '181/27/32', 'đường', 'xuân', 'thủy', 'trung', 'hoà', 'cầu', 'giấy', 'hà', 'nội'], ['ngách', '106/43', 'trung', 'kính', 'trung', 'hoà', 'cầu', 'giấy', 'hà', 'nội'], ['ngõ', '31', 'trần', 'quốc', 'hoàn', 'trung', 'hoà', 'cầu', 'giấy', 'hà', 'nội'], ['ngõ', '85', 'đường', 'xuân', 'thủy', 'trung', 'hoà', 'cầu', 'giấy', 'hà', 'nội'], ['ngõ', '31', 'trần', 'quốc', 'hoàn', 'trung', 'hoà', 'cầu', 'giấy', 'hà', 'nội'], ['ngõ', '20', 'nguyễn', 'chánh', 'trung', 'hoà', 'cầu', 'giấy', 'hà', 'nội'], ['ngõ', '20', 'nguyễn', 'chánh', 'trung', 'hoà', 'cầu', 'giấy', 'hà', 'nội'], ['hẻm', '181/27/32', 'đường', 'xuân', 'thủy', 'trung', 'hoà', 'cầu', 'giấy', 'hà', 'nội'], ['ngõ', '20', 'nguyễn', 'chánh', 'trung', 'hoà', 'cầu', 'giấy', 'hà', 'nội'], ['hẻm', '181/27/32', 'đường', 'xuân', 'thủy', 'trung', 'hoà', 'cầu', 'giấy', 'hà', 'nội'], ['ngõ', '31', 'trần', 'quốc', 'hoàn', 'trung', 'hoà', 'cầu', 'giấy', 'hà', 'nội'], ['hẻm', '181/27/32', 'đường', 'xuân', 'thủy', 'trung', 'hoà', 'cầu', 'giấy', 'hà', 'nội'], ['ngách', '106/43', 'trung', 'kính', 'trung', 'hoà', 'cầu', 'giấy', 'hà', 'nội'], ['ngách', '106/43', 'trung', 'kính', 'trung', 'hoà', 'cầu', 'giấy', 'hà', 'nội'], ['ngõ', '31', 'trần', 'quốc', 'hoàn', 'trung', 'hoà', 'cầu', 'giấy', 'hà', 'nội'], ['hẻm', '181/27/32', 'đường', 'xuân', 'thủy', 'trung', 'hoà', 'cầu', 'giấy', 'hà', 'nội'], ['trung', 'kính', 'trung', 'hoà', 'cầu', 'giấy', 'hà', 'nội'], ['ngõ', '20', 'nguyễn', 'chánh', 'trung', 'hoà', 'cầu', 'giấy', 'hà', 'nội'], ['ngõ', '85', 'đường', 'xuân', 'thủy', 'trung', 'hoà', 'cầu', 'giấy', 'hà', 'nội'], ['ngõ', '31', 'trần', 'quốc', 'hoàn', 'trung', 'hoà', 'cầu', 'giấy', 'hà', 'nội'], ['đường', 'mạc', 'thái', 'tông', 'trung', 'hoà', 'cầu', 'giấy', 'hà', 'nội'], ['ngõ', '31', 'trần', 'quốc', 'hoàn', 'trung', 'hoà', 'cầu', 'giấy', 'hà', 'nội'], ['trung', 'kính', 'trung', 'hoà', 'cầu', 'giấy', 'hà', 'nội'], ['đường', 'mạc', 'thái', 'tông', 'trung', 'hoà', 'cầu', 'giấy', 'hà', 'nội'], ['ngách', '31/26', 'trần', 'quốc', 'hoàn', 'trung', 'hoà', 'cầu', 'giấy', 'hà', 'nội'], ['ngõ', '85', 'đường', 'xuân', 'thủy', 'trung', 'hoà', 'cầu', 'giấy', 'hà', 'nội'], ['hẻm', '181/27/32/18', 'đường', 'xuân', 'thủy', 'trung', 'hoà', 'cầu', 'giấy', 'hà', 'nội'], ['ngõ', '123', 'trung', 'kính', 'trung', 'hoà', 'cầu', 'giấy', 'hà', 'nội'], ['ngõ', '85', 'đường', 'xuân', 'thủy', 'trung', 'hoà', 'cầu', 'giấy', 'hà', 'nội'], ['ngõ', '85', 'đường', 'xuân', 'thủy', 'trung', 'hoà', 'cầu', 'giấy', 'hà', 'nội'], ['đường', 'mạc', 'thái', 'tông', 'trung', 'hoà', 'cầu', 'giấy', 'hà', 'nội'], ['đường', 'mạc', 'thái', 'tông', 'trung', 'hoà', 'cầu', 'giấy', 'hà', 'nội'], ['trung', 'kính', 'trung', 'hoà', 'cầu', 'giấy', 'hà', 'nội'], ['ngõ', '123', 'trung', 'kính', 'trung', 'hoà', 'cầu', 'giấy', 'hà', 'nội'], ['đường', 'mạc', 'thái', 'tông', 'trung', 'hoà', 'cầu', 'giấy', 'hà', 'nội'], ['ngõ', '123', 'trung', 'kính', 'trung', 'hoà', 'cầu', 'giấy', 'hà', 'nội'], ['đường', 'mạc', 'thái', 'tông', 'trung', 'hoà', 'cầu', 'giấy', 'hà', 'nội'], ['trung', 'kính', 'trung', 'hoà', 'cầu', 'giấy', 'hà', 'nội'], ['ngách', '31/26', 'trần', 'quốc', 'hoàn', 'trung', 'hoà', 'cầu', 'giấy', 'hà', 'nội'], ['đường', 'mạc', 'thái', 'tông', 'trung', 'hoà', 'cầu', 'giấy', 'hà', 'nội'], ['trung', 'kính', 'trung', 'hoà', 'cầu', 'giấy', 'hà', 'nội'], ['hẻm', '181/27/32/18', 'đường', 'xuân', 'thủy', 'trung', 'hoà', 'cầu', 'giấy', 'hà', 'nội'], ['ngách', '31/22', 'trần', 'quốc', 'hoàn', 'trung', 'hoà', 'cầu', 'giấy', 'hà', 'nội'], ['trung', 'kính', 'trung', 'hoà', 'cầu', 'giấy', 'hà', 'nội'], ['ngõ', '123', 'trung', 'kính', 'trung', 'hoà', 'cầu', 'giấy', 'hà', 'nội'], ['trung', 'kính', 'trung', 'hoà', 'cầu', 'giấy', 'hà', 'nội'], ['ngách', '20/5', 'nguyễn', 'chánh', 'trung', 'hoà', 'cầu', 'giấy', 'hà', 'nội'], ['hẻm', '181/27/32', 'đường', 'xuân', 'thủy', 'trung', 'hoà', 'cầu', 'giấy', 'hà', 'nội'], ['ngách', '181/27', 'đường', 'xuân', 'thủy', 'trung', 'hoà', 'cầu', 'giấy', 'hà', 'nội'], ['trung', 'kính', 'trung', 'hoà', 'cầu', 'giấy', 'hà', 'nội'], ['ngách', '20/5', 'nguyễn', 'chánh', 'trung', 'hoà', 'cầu', 'giấy', 'hà', 'nội'], ['ngách', '31/22', 'trần', 'quốc', 'hoàn', 'trung', 'hoà', 'cầu', 'giấy', 'hà', 'nội'], ['ngách', '20/5', 'nguyễn', 'chánh', 'trung', 'hoà', 'cầu', 'giấy', 'hà', 'nội'], ['ngách', '181/27', 'đường', 'xuân', 'thủy', 'trung', 'hoà', 'cầu', 'giấy', 'hà', 'nội'], ['ngõ', '193', 'trung', 'kính', 'trung', 'hoà', 'cầu', 'giấy', 'hà', 'nội'], ['ngõ', '123', 'trung', 'kính', 'trung', 'hoà', 'cầu', 'giấy', 'hà', 'nội'], ['ngách', '20/5', 'nguyễn', 'chánh', 'yên', 'hoà', 'cầu', 'giấy', 'hà', 'nội'], ['ngõ', '123', 'trung', 'kính', 'trung', 'hoà', 'cầu', 'giấy', 'hà', 'nội'], ['ngõ', '85', 'đường', 'xuân', 'thủy', 'trung', 'hoà', 'cầu', 'giấy', 'hà', 'nội'], ['ngách', '31/18', 'trần', 'quốc', 'hoàn', 'trung', 'hoà', 'cầu', 'giấy', 'hà', 'nội'], ['hẻm', '181/27/10', 'đường', 'xuân', 'thủy', 'trung', 'hoà', 'cầu', 'giấy', 'hà', 'nội'], ['ngõ', '48', 'nguyễn', 'chánh', 'trung', 'hoà', 'cầu', 'giấy', 'hà', 'nội'], ['ngõ', '48', 'nguyễn', 'chánh', 'trung', 'hoà', 'cầu', 'giấy', 'hà', 'nội'], ['ngách', '31/12', 'trần', 'quốc', 'hoàn', 'trung', 'hoà', 'cầu', 'giấy', 'hà', 'nội'], ['ngõ', '193', 'trung', 'kính', 'trung', 'hoà', 'cầu', 'giấy', 'hà', 'nội'], ['ngõ', '123', 'trung', 'kính', 'trung', 'hoà', 'cầu', 'giấy', 'hà', 'nội'], ['ngõ', '85', 'đường', 'xuân', 'thủy', 'trung', 'hoà', 'cầu', 'giấy', 'hà', 'nội'], ['ngõ', '48', 'nguyễn', 'chánh', 'trung', 'hoà', 'cầu', 'giấy', 'hà', 'nội'], ['ngách', '31/12', 'trần', 'quốc', 'hoàn', 'trung', 'hoà', 'cầu', 'giấy', 'hà', 'nội'], ['ngõ', '193', 'trung', 'kính', 'trung', 'hoà', 'cầu', 'giấy', 'hà', 'nội'], ['ngõ', '123', 'trung', 'kính', 'trung', 'hoà', 'cầu', 'giấy', 'hà', 'nội'], ['ngách', '20/5', 'nguyễn', 'chánh', 'trung', 'hoà', 'cầu', 'giấy', 'hà', 'nội'], ['ngách', '31/22', 'trần', 'quốc', 'hoàn', 'yên', 'hoà', 'cầu', 'giấy', 'hà', 'nội'], ['hẻm', '85/24/10', 'đường', 'xuân', 'thủy', 'trung', 'hoà', 'cầu', 'giấy', 'hà', 'nội'], ['ngách', '31/22', 'trần', 'quốc', 'hoàn', 'trung', 'hoà', 'cầu', 'giấy', 'hà', 'nội'], ['ngõ', '123', 'trung', 'kính', 'trung', 'hoà', 'cầu', 'giấy', 'hà', 'nội'], ['hẻm', '85/24/10', 'đường', 'xuân', 'thủy', 'yên', 'hoà', 'cầu', 'giấy', 'hà', 'nội'], ['ngách', '181/27', 'đường', 'xuân', 'thủy', 'trung', 'hoà', 'cầu', 'giấy', 'hà', 'nội'], ['đường', 'hoàng', 'minh', 'giám', 'trung', 'hoà', 'cầu', 'giấy', 'hà', 'nội'], ['phố', 'doãn', 'kế', 'thiện', 'mai', 'dịch', 'cầu', 'giấy', 'hà', 'nội'], ['ngõ', '445', 'lạc', 'long', 'quân', 'nghĩa', 'đô', 'cầu', 'giấy', 'hà', 'nội'], ['ngõ', '2', 'nguyễn', 'chánh', 'trung', 'hoà', 'cầu', 'giấy', 'hà', 'nội'], ['đường', 'giao', 'lộ', 'đoạn', 'quay', 'đầu', 'võ', 'chí', 'công', 'nghĩa', 'đô', 'cầu', 'giấy', 'hà', 'nội'], ['ngõ', '445', 'lạc', 'long', 'quân', 'nghĩa', 'đô', 'cầu', 'giấy', 'hà', 'nội'], ['đường', 'nguyễn', 'ngọc', 'vũ', 'trung', 'hoà', 'cầu', 'giấy', 'hà', 'nội'], ['phố', 'nguyễn', 'thị', 'định', 'trung', 'hoà', 'cầu', 'giấy', 'hà', 'nội'], ['phố', 'dương', 'đình', 'nghệ', 'yên', 'hoà', 'cầu', 'giấy', 'hà', 'nội'], ['đường', 'võ', 'chí', 'công', 'nghĩa', 'đô', 'cầu', 'giấy', 'hà', 'nội'], ['đường', 'lê', 'văn', 'lương', 'trung', 'hoà', 'cầu', 'giấy', 'hà', 'nội'], ['phố', 'hoàng', 'ngân', 'trung', 'hoà', 'cầu', 'giấy', 'hà', 'nội'], ['ngõ', '10', 'nguyễn', 'thị', 'định', 'trung', 'hoà', 'cầu', 'giấy', 'hà', 'nội'], ['ngách', '34/4', 'nguyễn', 'thị', 'định', 'trung', 'hoà', 'cầu', 'giấy', 'hà', 'nội'], ['ngách', '41', 'trần', 'duy', 'hưng', 'trung', 'hoà', 'cầu', 'giấy', 'hà', 'nội'], ['71', 'trung', 'hoà', 'cầu', 'giấy', 'hà', 'nội'], ['4', 'lô', '14a', 'trung', 'hoà', 'cầu', 'giấy', 'hà', 'nội'], ['ngách', '106/43', 'trung', 'kính', 'trung', 'hoà', 'cầu', 'giấy', 'hà', 'nội'], ['đường', 'xuân', 'thủy', 'dịch', 'vọng', 'hậu', 'cầu', 'giấy', 'hà', 'nội'], ['phố', 'nghĩa', 'tân', 'nghĩa', 'tân', 'cầu', 'giấy', 'hà', 'nội'], ['đường', '800a', 'nghĩa', 'đô', 'cầu', 'giấy', 'hà', 'nội'], ['144', 'xuân', 'thủy', 'cầu', 'giấy', 'hà', 'nội'], ['144', 'xuân', 'thủy', 'dịch', 'vọng', 'hậu', 'cầu', 'giấy', 'hà', 'nội']]\n",
            "[['đường', 'trần', 'thái', 'tông', 'trung', 'hoà', 'cầu', 'dấy', 'hà', 'nội'], ['ngõ', '195', 'chung', 'kính', 'trung', 'hoà', 'cầu', 'giấy', 'hà', 'nội'], ['ngõ', '63', 'đường', 'xuân', 'thủy', 'trung', 'hoà', 'cầu', 'giấy', 'hà', 'lội'], ['ngõ', '195', 'chung', 'kính', 'trung', 'hoà', 'cầu', 'giấy', 'hà', 'nội'], ['đường', 'nguyễn', 'tránh', 'trung', 'hoà', 'cầu', 'giấy', 'hà', 'nội'], ['đường', 'chần', 'thái', 'tông', 'trung', 'hoà', 'cầu', 'giấy', 'hà', 'nội'], ['ngõ', '195', 'trung', 'kính', 'trung', 'hoà', 'cầu', 'giấy', 'hà', 'lội'], ['đường', 'trần', 'thái', 'tông', 'trung', 'hoà', 'cầu', 'rấy', 'hà', 'lội'], ['đường', 'chần', 'thái', 'tông', 'trung', 'hoà', 'cầu', 'giấy', 'hà', 'nội'], ['ngõ', '63', 'đường', 'xuân', 'thủy', 'trung', 'hoà', 'cầu', 'giấy', 'hà', 'nội'], ['ngách', '43/121', 'trung', 'kính', 'trung', 'hoà', 'cầu', 'giấy', 'hà', 'nội'], ['phố', 'trần', 'quốc', 'hoàn', 'trung', 'hoà', 'cầu', 'rấy', 'hà', 'lội'], ['ngõ', '63', 'đường', 'xuân', 'thủy', 'chung', 'hoà', 'cầu', 'giấy', 'hà', 'nội'], ['phố', 'trần', 'quốc', 'hoàn', 'trung', 'hoà', 'cầu', 'rấy', 'hà', 'nội'], ['ngách', '43/121', 'trung', 'kính', 'trung', 'hoà', 'cầu', 'giấy', 'hà', 'lội'], ['đường', 'chần', 'thái', 'tông', 'trung', 'hoà', 'cầu', 'giấy', 'hà', 'nội'], ['đường', 'nguyễn', 'tránh', 'trung', 'hoà', 'cầu', 'giấy', 'hà', 'nội'], ['ngõ', '195', 'trung', 'kính', 'trung', 'hoà', 'cầu', 'rấy', 'hà', 'nội'], ['đường', 'nguyễn', 'chánh', 'trung', 'hoà', 'cầu', 'dấy', 'hà', 'nội'], ['ngõ', '63', 'đường', 'xuân', 'thủy', 'trung', 'hoà', 'cầu', 'giấy', 'hà', 'nội'], ['ngách', '43/113', 'trung', 'kính', 'trung', 'hoà', 'cầu', 'rấy', 'hà', 'nội'], ['ngõ', '195', 'chung', 'kính', 'trung', 'hoà', 'cầu', 'giấy', 'hà', 'nội'], ['đường', 'nguyễn', 'chánh', 'chung', 'hoà', 'cầu', 'giấy', 'hà', 'nội'], ['ngách', '43/113', 'trung', 'kính', 'trung', 'hoà', 'cầu', 'giấy', 'hà', 'nội'], ['đường', 'trần', 'thái', 'tông', 'trung', 'hoà', 'cầu', 'giấy', 'hà', 'lội'], ['ngõ', '195', 'chung', 'kính', 'trung', 'hoà', 'cầu', 'giấy', 'hà', 'nội'], ['ngõ', '2', 'nguyễn', 'chánh', 'trung', 'hoà', 'cầu', 'giấy', 'hà', 'nội'], ['ngõ', '2', 'nguyễn', 'chánh', 'trung', 'hoà', 'cầu', 'giấy', 'hà', 'lội'], ['ngõ', '63', 'đường', 'xuân', 'thủy', 'trung', 'hoà', 'cầu', 'giấy', 'hà', 'nội'], ['ngách', '43/113', 'trung', 'kính', 'trung', 'hoà', 'cầu', 'dấy', 'hà', 'nội'], ['ngõ', '2', 'nguyễn', 'chánh', 'trung', 'hoà', 'cầu', 'giấy', 'hà', 'nội'], ['đường', 'trần', 'thái', 'tông', 'trung', 'hoà', 'cầu', 'giấy', 'hà', 'nội'], ['ngõ', '2', 'nguyễn', 'chánh', 'trung', 'hoà', 'cầu', 'giấy', 'hà', 'nội'], ['ngõ', '53', 'trần', 'quốc', 'hoàn', 'chung', 'hoà', 'cầu', 'rấy', 'hà', 'nội'], ['ngõ', '41', 'đường', 'xuân', 'thủy', 'trung', 'hoà', 'cầu', 'giấy', 'hà', 'nội'], ['đường', 'dương', 'đình', 'nghệ', 'trung', 'hoà', 'cầu', 'rấy', 'hà', 'nội'], ['ngõ', '53', 'trần', 'quốc', 'hoàn', 'chung', 'hoà', 'cầu', 'giấy', 'hà', 'lội'], ['ngõ', '195', 'trung', 'kính', 'trung', 'hoà', 'cầu', 'giấy', 'hà', 'nội'], ['ngõ', '53', 'chần', 'quốc', 'hoàn', 'trung', 'hoà', 'cầu', 'giấy', 'hà', 'nội'], ['ngách', '43/113', 'trung', 'kính', 'trung', 'hoà', 'cầu', 'giấy', 'hà', 'nội'], ['đường', 'dương', 'đình', 'nghệ', 'trung', 'hoà', 'cầu', 'rấy', 'hà', 'nội'], ['ngõ', '2', 'nguyễn', 'chánh', 'trung', 'hoà', 'cầu', 'giấy', 'hà', 'lội'], ['ngõ', '195', 'trung', 'kính', 'trung', 'hoà', 'cầu', 'giấy', 'hà', 'nội'], ['đường', 'rương', 'đình', 'nghệ', 'trung', 'hoà', 'cầu', 'giấy', 'hà', 'nội'], ['ngõ', '195', 'trung', 'kính', 'trung', 'hoà', 'cầu', 'giấy', 'hà', 'lội'], ['ngõ', '2', 'nguyễn', 'chánh', 'trung', 'hoà', 'cầu', 'giấy', 'hà', 'lội'], ['ngõ', '195', 'trung', 'kính', 'trung', 'hoà', 'cầu', 'giấy', 'hà', 'nội'], ['ngõ', '2', 'nguyễn', 'chánh', 'trung', 'hoà', 'cầu', 'giấy', 'hà', 'nội'], ['trung', 'kính', 'trung', 'hoà', 'cầu', 'giấy', 'hà', 'nội'], ['ngách', '53/15', 'trần', 'quốc', 'hoàn', 'trung', 'hoà', 'cầu', 'giấy', 'hà', 'nội'], ['ngõ', '2', 'nguyễn', 'tránh', 'trung', 'hoà', 'cầu', 'giấy', 'hà', 'nội'], ['ngõ', '23', 'đường', 'suân', 'thủy', 'trung', 'hoà', 'cầu', 'giấy', 'hà', 'nội'], ['ngách', '53/15', 'trần', 'quốc', 'hoàn', 'chung', 'hoà', 'cầu', 'giấy', 'hà', 'nội'], ['trung', 'kính', 'trung', 'hoà', 'cầu', 'dấy', 'hà', 'nội'], ['ngõ', '85', 'đường', 'suân', 'thủy', 'trung', 'hoà', 'cầu', 'giấy', 'hà', 'nội'], ['ngõ', '2', 'nguyễn', 'chánh', 'trung', 'hoà', 'cầu', 'giấy', 'hà', 'nội'], ['trung', 'kính', 'chung', 'hoà', 'cầu', 'rấy', 'hà', 'nội'], ['ngách', '106/43', 'chung', 'kính', 'trung', 'hoà', 'cầu', 'giấy', 'hà', 'nội'], ['đường', 'dương', 'đình', 'nghệ', 'trung', 'hoà', 'cầu', 'giấy', 'hà', 'nội'], ['ngách', '106/43', 'trung', 'kính', 'chung', 'hoà', 'cầu', 'rấy', 'hà', 'nội'], ['ngõ', '2', 'nguyễn', 'chánh', 'trung', 'hoà', 'cầu', 'giấy', 'hà', 'nội'], ['trung', 'kính', 'trung', 'hoà', 'cầu', 'giấy', 'hà', 'lội'], ['ngách', '53/15', 'trần', 'quốc', 'hoàn', 'trung', 'hoà', 'cầu', 'rấy', 'hà', 'nội'], ['ngõ', '85', 'đường', 'xuân', 'thủy', 'trung', 'hoà', 'cầu', 'giấy', 'hà', 'lội'], ['đường', 'dương', 'đình', 'nghệ', 'trung', 'hoà', 'cầu', 'giấy', 'hà', 'nội'], ['trung', 'kính', 'chung', 'hoà', 'cầu', 'giấy', 'hà', 'nội'], ['ngõ', '85', 'đường', 'xuân', 'thủy', 'trung', 'hoà', 'cầu', 'giấy', 'hà', 'nội'], ['hẻm', '181/27/32', 'đường', 'xuân', 'thủy', 'trung', 'hoà', 'cầu', 'giấy', 'hà', 'nội'], ['ngõ', '20', 'nguyễn', 'chánh', 'trung', 'hoà', 'cầu', 'giấy', 'hà', 'nội'], ['ngõ', '20', 'nguyễn', 'tránh', 'trung', 'hoà', 'cầu', 'giấy', 'hà', 'nội'], ['ngõ', '20', 'nguyễn', 'chánh', 'trung', 'hoà', 'cầu', 'dấy', 'hà', 'lội'], ['trung', 'kính', 'trung', 'hoà', 'cầu', 'giấy', 'hà', 'nội'], ['trung', 'kính', 'trung', 'hoà', 'cầu', 'rấy', 'hà', 'nội'], ['ngõ', '37', 'trần', 'quốc', 'hoàn', 'chung', 'hoà', 'cầu', 'giấy', 'hà', 'nội'], ['ngách', '106/43', 'trung', 'kính', 'trung', 'hoà', 'cầu', 'giấy', 'hà', 'nội'], ['hẻm', '181/27/32', 'đường', 'xuân', 'thủy', 'trung', 'hoà', 'cầu', 'giấy', 'hà', 'lội'], ['ngõ', '20', 'nguyễn', 'chánh', 'chung', 'hoà', 'cầu', 'dấy', 'hà', 'nội'], ['trung', 'kính', 'chung', 'hoà', 'cầu', 'giấy', 'hà', 'nội'], ['ngõ', '85', 'đường', 'suân', 'thủy', 'trung', 'hoà', 'cầu', 'giấy', 'hà', 'nội'], ['ngõ', '37', 'trần', 'quốc', 'hoàn', 'trung', 'hoà', 'cầu', 'giấy', 'hà', 'nội'], ['trung', 'kính', 'trung', 'hoà', 'cầu', 'giấy', 'hà', 'lội'], ['hẻm', '181/27/32', 'đường', 'xuân', 'thủy', 'trung', 'hoà', 'cầu', 'giấy', 'hà', 'nội'], ['ngõ', '37', 'chần', 'quốc', 'hoàn', 'trung', 'hoà', 'cầu', 'giấy', 'hà', 'lội'], ['trung', 'kính', 'chung', 'hoà', 'cầu', 'giấy', 'hà', 'nội'], ['trung', 'kính', 'trung', 'hoà', 'cầu', 'giấy', 'hà', 'nội'], ['trung', 'kính', 'trung', 'hoà', 'cầu', 'giấy', 'hà', 'lội'], ['ngách', '106/43', 'trung', 'kính', 'chung', 'hoà', 'cầu', 'giấy', 'hà', 'nội'], ['trung', 'kính', 'trung', 'hoà', 'cầu', 'dấy', 'hà', 'nội'], ['chung', 'kính', 'trung', 'hoà', 'cầu', 'giấy', 'hà', 'nội'], ['ngõ', '20', 'nguyễn', 'chánh', 'trung', 'hoà', 'cầu', 'giấy', 'hà', 'nội'], ['ngõ', '20', 'nguyễn', 'chánh', 'trung', 'hoà', 'cầu', 'giấy', 'hà', 'nội'], ['ngõ', '37', 'trần', 'quốc', 'hoàn', 'trung', 'hoà', 'cầu', 'giấy', 'hà', 'lội'], ['ngõ', '37', 'chần', 'quốc', 'hoàn', 'trung', 'hoà', 'cầu', 'giấy', 'hà', 'nội'], ['trung', 'kính', 'trung', 'hoà', 'cầu', 'giấy', 'hà', 'lội'], ['ngõ', '85', 'đường', 'xuân', 'thủy', 'trung', 'hoà', 'cầu', 'giấy', 'hà', 'nội'], ['hẻm', '181/27/32', 'đường', 'xuân', 'thủy', 'chung', 'hoà', 'cầu', 'giấy', 'hà', 'nội'], ['trung', 'kính', 'trung', 'hoà', 'cầu', 'dấy', 'hà', 'nội'], ['ngách', '106/43', 'chung', 'kính', 'trung', 'hoà', 'cầu', 'giấy', 'hà', 'nội'], ['trung', 'kính', 'trung', 'hoà', 'cầu', 'giấy', 'hà', 'lội'], ['hẻm', '181/27/32', 'đường', 'xuân', 'thủy', 'trung', 'hoà', 'cầu', 'giấy', 'hà', 'nội'], ['ngõ', '20', 'nguyễn', 'chánh', 'chung', 'hoà', 'cầu', 'giấy', 'hà', 'nội'], ['hẻm', '181/27/32', 'đường', 'xuân', 'thủy', 'trung', 'hoà', 'cầu', 'giấy', 'hà', 'nội'], ['ngách', '106/43', 'chung', 'kính', 'trung', 'hoà', 'cầu', 'giấy', 'hà', 'nội'], ['ngõ', '31', 'trần', 'quốc', 'hoàn', 'trung', 'hoà', 'cầu', 'giấy', 'hà', 'nội'], ['ngõ', '85', 'đường', 'xuân', 'thủy', 'trung', 'hoà', 'cầu', 'giấy', 'hà', 'nội'], ['ngõ', '31', 'chần', 'quốc', 'hoàn', 'trung', 'hoà', 'cầu', 'giấy', 'hà', 'nội'], ['ngõ', '20', 'nguyễn', 'tránh', 'trung', 'hoà', 'cầu', 'giấy', 'hà', 'nội'], ['ngõ', '20', 'nguyễn', 'chánh', 'chung', 'hoà', 'cầu', 'giấy', 'hà', 'nội'], ['hẻm', '181/27/32', 'đường', 'xuân', 'thủy', 'trung', 'hoà', 'cầu', 'giấy', 'hà', 'nội'], ['ngõ', '20', 'nguyễn', 'chánh', 'trung', 'hoà', 'cầu', 'giấy', 'hà', 'nội'], ['hẻm', '181/27/32', 'đường', 'xuân', 'thủy', 'trung', 'hoà', 'cầu', 'giấy', 'hà', 'lội'], ['ngõ', '31', 'trần', 'quốc', 'hoàn', 'trung', 'hoà', 'cầu', 'rấy', 'hà', 'nội'], ['hẻm', '181/27/32', 'đường', 'xuân', 'thủy', 'chung', 'hoà', 'cầu', 'giấy', 'hà', 'nội'], ['ngách', '106/43', 'trung', 'kính', 'chung', 'hoà', 'cầu', 'giấy', 'hà', 'nội'], ['ngách', '106/43', 'trung', 'kính', 'trung', 'hoà', 'cầu', 'giấy', 'hà', 'nội'], ['ngõ', '31', 'trần', 'quốc', 'hoàn', 'trung', 'hoà', 'cầu', 'giấy', 'hà', 'nội'], ['hẻm', '181/27/32', 'đường', 'xuân', 'thủy', 'trung', 'hoà', 'cầu', 'dấy', 'hà', 'nội'], ['trung', 'kính', 'trung', 'hoà', 'cầu', 'giấy', 'hà', 'lội'], ['ngõ', '20', 'nguyễn', 'chánh', 'chung', 'hoà', 'cầu', 'giấy', 'hà', 'lội'], ['ngõ', '85', 'đường', 'suân', 'thủy', 'trung', 'hoà', 'cầu', 'giấy', 'hà', 'nội'], ['ngõ', '31', 'chần', 'quốc', 'hoàn', 'trung', 'hoà', 'cầu', 'giấy', 'hà', 'nội'], ['đường', 'mạc', 'thái', 'tông', 'trung', 'hoà', 'cầu', 'giấy', 'hà', 'nội'], ['ngõ', '31', 'trần', 'quốc', 'hoàn', 'trung', 'hoà', 'cầu', 'giấy', 'hà', 'nội'], ['trung', 'kính', 'chung', 'hoà', 'cầu', 'giấy', 'hà', 'nội'], ['đường', 'mạc', 'thái', 'tông', 'chung', 'hoà', 'cầu', 'giấy', 'hà', 'nội'], ['ngách', '31/26', 'chần', 'quốc', 'hoàn', 'chung', 'hoà', 'cầu', 'giấy', 'hà', 'nội'], ['ngõ', '85', 'đường', 'xuân', 'thủy', 'trung', 'hoà', 'cầu', 'giấy', 'hà', 'nội'], ['hẻm', '181/27/32/18', 'đường', 'xuân', 'thủy', 'trung', 'hoà', 'cầu', 'giấy', 'hà', 'nội'], ['ngõ', '123', 'trung', 'kính', 'chung', 'hoà', 'cầu', 'giấy', 'hà', 'nội'], ['ngõ', '85', 'đường', 'xuân', 'thủy', 'trung', 'hoà', 'cầu', 'rấy', 'hà', 'nội'], ['ngõ', '85', 'đường', 'suân', 'thủy', 'trung', 'hoà', 'cầu', 'giấy', 'hà', 'nội'], ['đường', 'mạc', 'thái', 'tông', 'trung', 'hoà', 'cầu', 'giấy', 'hà', 'nội'], ['đường', 'mạc', 'thái', 'tông', 'trung', 'hoà', 'cầu', 'giấy', 'hà', 'nội'], ['trung', 'kính', 'chung', 'hoà', 'cầu', 'giấy', 'hà', 'nội'], ['ngõ', '123', 'trung', 'kính', 'trung', 'hoà', 'cầu', 'giấy', 'hà', 'nội'], ['đường', 'mạc', 'thái', 'tông', 'trung', 'hoà', 'cầu', 'giấy', 'hà', 'nội'], ['ngõ', '123', 'trung', 'kính', 'trung', 'hoà', 'cầu', 'rấy', 'hà', 'nội'], ['đường', 'mạc', 'thái', 'tông', 'chung', 'hoà', 'cầu', 'giấy', 'hà', 'lội'], ['chung', 'kính', 'trung', 'hoà', 'cầu', 'giấy', 'hà', 'nội'], ['ngách', '31/26', 'trần', 'quốc', 'hoàn', 'trung', 'hoà', 'cầu', 'giấy', 'hà', 'nội'], ['đường', 'mạc', 'thái', 'tông', 'chung', 'hoà', 'cầu', 'giấy', 'hà', 'nội'], ['trung', 'kính', 'trung', 'hoà', 'cầu', 'giấy', 'hà', 'nội'], ['hẻm', '181/27/32/18', 'đường', 'xuân', 'thủy', 'trung', 'hoà', 'cầu', 'giấy', 'hà', 'nội'], ['ngách', '31/22', 'trần', 'quốc', 'hoàn', 'trung', 'hoà', 'cầu', 'giấy', 'hà', 'nội'], ['trung', 'kính', 'trung', 'hoà', 'cầu', 'rấy', 'hà', 'nội'], ['ngõ', '123', 'chung', 'kính', 'trung', 'hoà', 'cầu', 'rấy', 'hà', 'nội'], ['trung', 'kính', 'trung', 'hoà', 'cầu', 'rấy', 'hà', 'nội'], ['ngách', '20/5', 'nguyễn', 'chánh', 'chung', 'hoà', 'cầu', 'giấy', 'hà', 'nội'], ['hẻm', '181/27/32', 'đường', 'xuân', 'thủy', 'trung', 'hoà', 'cầu', 'giấy', 'hà', 'nội'], ['ngách', '181/27', 'đường', 'xuân', 'thủy', 'trung', 'hoà', 'cầu', 'giấy', 'hà', 'nội'], ['trung', 'kính', 'trung', 'hoà', 'cầu', 'dấy', 'hà', 'nội'], ['ngách', '20/5', 'nguyễn', 'chánh', 'trung', 'hoà', 'cầu', 'giấy', 'hà', 'lội'], ['ngách', '31/22', 'trần', 'quốc', 'hoàn', 'trung', 'hoà', 'cầu', 'giấy', 'hà', 'nội'], ['ngách', '20/5', 'nguyễn', 'chánh', 'trung', 'hoà', 'cầu', 'giấy', 'hà', 'lội'], ['ngách', '181/27', 'đường', 'xuân', 'thủy', 'trung', 'hoà', 'cầu', 'giấy', 'hà', 'nội'], ['ngõ', '193', 'chung', 'kính', 'trung', 'hoà', 'cầu', 'giấy', 'hà', 'nội'], ['ngõ', '123', 'trung', 'kính', 'chung', 'hoà', 'cầu', 'giấy', 'hà', 'nội'], ['ngách', '20/5', 'nguyễn', 'tránh', 'yên', 'hoà', 'cầu', 'giấy', 'hà', 'nội'], ['ngõ', '123', 'trung', 'kính', 'trung', 'hoà', 'cầu', 'giấy', 'hà', 'nội'], ['ngõ', '85', 'đường', 'suân', 'thủy', 'trung', 'hoà', 'cầu', 'rấy', 'hà', 'nội'], ['ngách', '31/18', 'chần', 'quốc', 'hoàn', 'trung', 'hoà', 'cầu', 'giấy', 'hà', 'nội'], ['hẻm', '181/27/10', 'đường', 'xuân', 'thủy', 'trung', 'hoà', 'cầu', 'giấy', 'hà', 'nội'], ['ngõ', '48', 'nguyễn', 'chánh', 'chung', 'hoà', 'cầu', 'giấy', 'hà', 'nội'], ['ngõ', '48', 'nguyễn', 'chánh', 'trung', 'hoà', 'cầu', 'giấy', 'hà', 'nội'], ['ngách', '31/12', 'chần', 'quốc', 'hoàn', 'trung', 'hoà', 'cầu', 'giấy', 'hà', 'nội'], ['ngõ', '193', 'trung', 'kính', 'trung', 'hoà', 'cầu', 'giấy', 'hà', 'nội'], ['ngõ', '123', 'trung', 'kính', 'chung', 'hoà', 'cầu', 'giấy', 'hà', 'nội'], ['ngõ', '85', 'đường', 'xuân', 'thủy', 'chung', 'hoà', 'cầu', 'giấy', 'hà', 'nội'], ['ngõ', '48', 'nguyễn', 'chánh', 'trung', 'hoà', 'cầu', 'giấy', 'hà', 'nội'], ['ngách', '31/12', 'trần', 'quốc', 'hoàn', 'trung', 'hoà', 'cầu', 'giấy', 'hà', 'nội'], ['ngõ', '193', 'chung', 'kính', 'trung', 'hoà', 'cầu', 'giấy', 'hà', 'nội'], ['ngõ', '123', 'trung', 'kính', 'chung', 'hoà', 'cầu', 'giấy', 'hà', 'nội'], ['ngách', '20/5', 'nguyễn', 'chánh', 'chung', 'hoà', 'cầu', 'giấy', 'hà', 'nội'], ['ngách', '31/22', 'trần', 'quốc', 'hoàn', 'yên', 'hoà', 'cầu', 'giấy', 'hà', 'lội'], ['hẻm', '85/24/10', 'đường', 'xuân', 'thủy', 'trung', 'hoà', 'cầu', 'giấy', 'hà', 'nội'], ['ngách', '31/22', 'chần', 'quốc', 'hoàn', 'trung', 'hoà', 'cầu', 'giấy', 'hà', 'lội'], ['ngõ', '123', 'chung', 'kính', 'trung', 'hoà', 'cầu', 'giấy', 'hà', 'nội'], ['hẻm', '85/24/10', 'đường', 'xuân', 'thủy', 'yên', 'hoà', 'cầu', 'giấy', 'hà', 'nội'], ['ngách', '181/27', 'đường', 'xuân', 'thủy', 'trung', 'hoà', 'cầu', 'giấy', 'hà', 'lội'], ['đường', 'hoàng', 'minh', 'giám', 'trung', 'hoà', 'cầu', 'dấy', 'hà', 'nội'], ['phố', 'doãn', 'kế', 'thiện', 'mai', 'dịch', 'cầu', 'giấy', 'hà', 'nội'], ['ngõ', '445', 'lạc', 'nong', 'quân', 'nghĩa', 'đô', 'cầu', 'giấy', 'hà', 'nội'], ['ngõ', '2', 'nguyễn', 'chánh', 'trung', 'hoà', 'cầu', 'giấy', 'hà', 'nội'], ['đường', 'giao', 'lộ', 'đoạn', 'quay', 'đầu', 'võ', 'chí', 'công', 'nghĩa', 'đô', 'cầu', 'giấy', 'hà', 'nội'], ['ngõ', '445', 'lạc', 'long', 'quân', 'nghĩa', 'đô', 'cầu', 'giấy', 'hà', 'nội'], ['đường', 'nguyễn', 'ngọc', 'vũ', 'trung', 'hoà', 'cầu', 'giấy', 'hà', 'nội'], ['phố', 'nguyễn', 'thị', 'định', 'trung', 'hoà', 'cầu', 'giấy', 'hà', 'nội'], ['phố', 'dương', 'đình', 'nghệ', 'yên', 'hoà', 'cầu', 'giấy', 'hà', 'nội'], ['đường', 'võ', 'chí', 'công', 'nghĩa', 'đô', 'cầu', 'giấy', 'hà', 'nội'], ['đường', 'lê', 'văn', 'nương', 'trung', 'hoà', 'cầu', 'giấy', 'hà', 'nội'], ['phố', 'hoàng', 'ngân', 'trung', 'hoà', 'cầu', 'giấy', 'hà', 'nội'], ['ngõ', '10', 'nguyễn', 'thị', 'định', 'trung', 'hoà', 'cầu', 'giấy', 'hà', 'lội'], ['ngách', '34/4', 'nguyễn', 'thị', 'định', 'trung', 'hoà', 'cầu', 'giấy', 'hà', 'nội'], ['ngách', '41', 'chần', 'duy', 'hưng', 'trung', 'hoà', 'cầu', 'giấy', 'hà', 'nội'], ['71', 'trung', 'hoà', 'cầu', 'giấy', 'hà', 'lội'], ['4', 'nô', '14a', 'trung', 'hoà', 'cầu', 'giấy', 'hà', 'nội'], ['ngách', '106/43', 'trung', 'kính', 'trung', 'hoà', 'cầu', 'giấy', 'hà', 'nội'], ['đường', 'xuân', 'thủy', 'dịch', 'vọng', 'hậu', 'cầu', 'dấy', 'hà', 'lội'], ['phố', 'nghĩa', 'tân', 'nghĩa', 'tân', 'cầu', 'rấy', 'hà', 'nội'], ['đường', '800a', 'nghĩa', 'đô', 'cầu', 'giấy', 'hà', 'nội'], ['144', 'xuân', 'thủy', 'cầu', 'giấy', 'hà', 'nội'], ['144', 'xuân', 'thủy', 'rịch', 'vọng', 'hậu', 'cầu', 'giấy', 'hà', 'nội']]\n"
          ],
          "name": "stdout"
        }
      ]
    },
    {
      "cell_type": "code",
      "metadata": {
        "id": "7B4PaYH_r24I"
      },
      "source": [
        "result_data_test = []\n",
        "\n",
        "for i in data_test:\n",
        "  sen_words = i.split()\n",
        "  num_of_word = len(sen_words)\n",
        "  char_encode = get_char_encode(sen_words,25,25)\n",
        "  char_embedd = get_charEmbedd_form_encode(char_encode)\n",
        "  char_embedd = char_embedd.reshape(1,char_embedd.shape[0], char_embedd.shape[1],char_embedd.shape[2])\n",
        "  output = m.predict([char_embedd])\n",
        "  tag_encode = []\n",
        "  for i in range(25): \n",
        "    tag_encode.append(argmax(output[0,i,:]))\n",
        "  tag_result=[]\n",
        "  for i in range(num_of_word):\n",
        "    tag_result.append(aphabet_tag[tag_encode[i]])\n",
        "    arr_tag_result=np.array(tag_result)\n",
        "  result_data_test.append(tag_result)"
      ],
      "execution_count": 121,
      "outputs": []
    },
    {
      "cell_type": "code",
      "metadata": {
        "id": "qydJhxygu_i8"
      },
      "source": [
        "# token_real_data = np.array(token_real_data)\n",
        "# result_data_test = np.array(result_data_test)"
      ],
      "execution_count": 32,
      "outputs": []
    },
    {
      "cell_type": "code",
      "metadata": {
        "id": "eBogR_-Ipq06"
      },
      "source": [
        "def check_word_in_dict(word):\n",
        "  for i in aphabet_tag:\n",
        "    if i == word:\n",
        "      return True\n",
        "  return False \n"
      ],
      "execution_count": 122,
      "outputs": []
    },
    {
      "cell_type": "code",
      "metadata": {
        "colab": {
          "base_uri": "https://localhost:8080/"
        },
        "id": "yItIeLVvsBk-",
        "outputId": "a17f1db9-566a-4726-b7ac-4b52543b92b5"
      },
      "source": [
        "print(check_word_in_dict(\"144\"))"
      ],
      "execution_count": 123,
      "outputs": [
        {
          "output_type": "stream",
          "text": [
            "True\n"
          ],
          "name": "stdout"
        }
      ]
    },
    {
      "cell_type": "code",
      "metadata": {
        "colab": {
          "base_uri": "https://localhost:8080/"
        },
        "id": "OqX605NxkSdS",
        "outputId": "8054f47b-b829-40e1-f874-45717ed44b0e"
      },
      "source": [
        "TP = 0\n",
        "TN = 0\n",
        "FP = 0\n",
        "FN = 0\n",
        "total = 0\n",
        "for i in range(len(token_real_data)):\n",
        "  for j in range(len(token_real_data[i])):\n",
        "    total = total + 1\n",
        "    if check_word_in_dict(token_data_test[i][j]) and result_data_test[i][j] == token_real_data[i][j]:\n",
        "      TP = TP + 1\n",
        "    elif check_word_in_dict(token_data_test[i][j]) and result_data_test[i][j] != token_real_data[i][j]:\n",
        "      TN = TN + 1\n",
        "    if check_word_in_dict(token_data_test[i][j]) == False and result_data_test[i][j] == token_real_data[i][j]:\n",
        "      FP = FP + 1\n",
        "    elif check_word_in_dict(token_data_test[i][j]) == False and result_data_test[i][j] != token_real_data[i][j]:\n",
        "      FN = FN + 1\n",
        "    \n",
        "\n",
        "print(total)\n",
        "print(TP)\n",
        "print(TN)\n",
        "print(FP)\n",
        "print(FN)"
      ],
      "execution_count": 124,
      "outputs": [
        {
          "output_type": "stream",
          "text": [
            "2029\n",
            "1932\n",
            "2\n",
            "95\n",
            "0\n"
          ],
          "name": "stdout"
        }
      ]
    },
    {
      "cell_type": "code",
      "metadata": {
        "id": "A73okbgI6Mzr"
      },
      "source": [
        "accuracy = (TP + TN) / total\n",
        "precision = TP / (TP + FP)\n",
        "recall = TP / (TP + FN)\n",
        "f1 = (2 * precision * recall) / (precision + recall)"
      ],
      "execution_count": 125,
      "outputs": []
    },
    {
      "cell_type": "code",
      "metadata": {
        "colab": {
          "base_uri": "https://localhost:8080/"
        },
        "id": "w6mEdOmA61DK",
        "outputId": "2064a0d5-bc3c-4a6e-de98-2f2d02db253d"
      },
      "source": [
        "print(\"Accuracy = \", accuracy)\n",
        "print(\"Precision = \", precision)\n",
        "print(\"Recall = \", recall)\n",
        "print(\"F1 = \", f1)"
      ],
      "execution_count": 126,
      "outputs": [
        {
          "output_type": "stream",
          "text": [
            "Accuracy =  0.9531789058649581\n",
            "Precision =  0.9531327084361125\n",
            "Recall =  1.0\n",
            "F1 =  0.9760040414246022\n"
          ],
          "name": "stdout"
        }
      ]
    },
    {
      "cell_type": "code",
      "metadata": {
        "id": "L-opCmTfYVEG"
      },
      "source": [
        "query = \"trung kính trung hoà ầu giấy hà nội\"\n",
        "try:\n",
        "  sen_words = query.split()\n",
        "  num_of_word = len(sen_words)\n",
        "except:\n",
        "  print('Creating token word...')\n",
        "#   annotator = VnCoreNLP(\"/content/drive/MyDrive/data/input_output/VnCoreNLP-1.1.1.jar\", annotators=\"wseg\", max_heap_size='-Xmx500m')\n",
        "  print('token word created')\n",
        "  sen_words = query.split()\n",
        "  num_of_word = len(sen_words)\n",
        "print(sen_words)\n",
        "    \n",
        "# get char embedding\n",
        "char_encode = get_char_encode(sen_words,25,25)\n",
        "\n",
        "char_embedd = get_charEmbedd_form_encode(char_encode)\n",
        "char_embedd = char_embedd.reshape(1,char_embedd.shape[0], char_embedd.shape[1],char_embedd.shape[2])\n",
        "\n",
        "# predict\n",
        "output = m.predict([char_embedd])\n",
        "\n",
        "# return [1,2,3,4,5,5,5,5,5,5,5,5,5,5,5] or convert to encode tag\n",
        "tag_encode = []\n",
        "for i in range(25): \n",
        "  tag_encode.append(argmax(output[0,i,:]))\n",
        "\n",
        "# return [street, homenumber,.....] or only get [num_of_word] first element=> convert to tag\n",
        "tag_result=[]\n",
        "for i in range(num_of_word):\n",
        "  tag_result.append(aphabet_tag[tag_encode[i]])\n",
        "  arr_tag_result=np.array(tag_result)\n",
        "\n",
        "print(tag_result)\n",
        "# return {'nhaf_hàng': OBJ,....} \n",
        "# result={}\n",
        "# for i in range(num_of_word):\n",
        "#   result[sen_words[i]] = str(arr_tag_result[i])\n",
        "\n",
        "# print(result)\n",
        "#==========================\n",
        "# dic_result = {}\n",
        "# for word in result:\n",
        "#   tag = result[word]\n",
        "#   try:\n",
        "#     dic_result[tag] += \" \" + word\n",
        "#   except:\n",
        "#     dic_result[tag] = word\n",
        "# print(dic_result)"
      ],
      "execution_count": null,
      "outputs": []
    },
    {
      "cell_type": "code",
      "metadata": {
        "id": "HgBe1xpeikGV"
      },
      "source": [
        "for i in result_data_set"
      ],
      "execution_count": null,
      "outputs": []
    },
    {
      "cell_type": "code",
      "metadata": {
        "id": "VnF5hJThb0bb"
      },
      "source": [
        "from keras import backend as K\n",
        "def recall_m(y_true, y_pred):\n",
        "    true_positives = K.sum(K.round(K.clip(y_true * y_pred, 0, 1)))\n",
        "    possible_positives = K.sum(K.round(K.clip(y_true, 0, 1)))\n",
        "    recall = true_positives / (possible_positives + K.epsilon())\n",
        "    return recall\n",
        "\n",
        "def precision_m(y_true, y_pred):\n",
        "    true_positives = K.sum(K.round(K.clip(y_true * y_pred, 0, 1)))\n",
        "    predicted_positives = K.sum(K.round(K.clip(y_pred, 0, 1)))\n",
        "    precision = true_positives / (predicted_positives + K.epsilon())\n",
        "    return precision\n",
        "\n",
        "def f1_m(y_true, y_pred):\n",
        "    precision = precision_m(y_true, y_pred)\n",
        "    recall = recall_m(y_true, y_pred)\n",
        "    return 2*((precision*recall)/(precision+recall+K.epsilon()))"
      ],
      "execution_count": null,
      "outputs": []
    },
    {
      "cell_type": "code",
      "metadata": {
        "id": "_07O5WdXuX1r"
      },
      "source": [
        "recall_demo = recall_m(result_data_test, token_real_data)\n",
        "print(recall_demo)"
      ],
      "execution_count": null,
      "outputs": []
    },
    {
      "cell_type": "code",
      "metadata": {
        "id": "38qkI29XcafH"
      },
      "source": [
        ""
      ],
      "execution_count": null,
      "outputs": []
    },
    {
      "cell_type": "code",
      "metadata": {
        "id": "kssvB0jYrAef"
      },
      "source": [
        "import requests\n",
        "#from flask import Flask, render_template, jsonify\n",
        "from flask import Flask, render_template, abort, request, jsonify, json,Response\n",
        "from flask import request, redirect, url_for\n",
        "import codecs\n",
        "import gensim\n",
        "from distutils.version import LooseVersion, StrictVersion\n",
        "import json\n",
        "from flask_ngrok import run_with_ngrok\n",
        "\n",
        "app = Flask(__name__)\n",
        "run_with_ngrok(app)\n",
        "app.config['JSON_AS_ASCII'] = False\n",
        "\n",
        "global word2vec_model\n",
        "\n",
        "@app.route('/')\n",
        "def summary():\n",
        "  if request.method == \"GET\":\n",
        "    query = request.values['query'] or ''\n",
        "    query = str(query)\n",
        "    print( 'query = ' + query )\n",
        "    \n",
        "    # token word\n",
        "    try:\n",
        "      # sen_words = annotator.tokenize(query)[0]\n",
        "      # num_of_word = len(sen_words)\n",
        "      sen_words = query.split()\n",
        "      num_of_word = len(sen_words)\n",
        "    except:\n",
        "      print('Creating token word...')\n",
        "      # annotator = VnCoreNLP(\"/content/drive/MyDrive/data/input_output/VnCoreNLP-1.1.1.jar\", annotators=\"wseg\", max_heap_size='-Xmx500m')\n",
        "      print('token word created')\n",
        "      sen_words = query.split()\n",
        "      num_of_word = len(sen_words)\n",
        "    print(sen_words)\n",
        "        \n",
        "    # get char embedding\n",
        "    char_encode = get_char_encode(sen_words,25,25)\n",
        "\n",
        "    char_embedd = get_charEmbedd_form_encode(char_encode)\n",
        "    char_embedd = char_embedd.reshape(1,char_embedd.shape[0], char_embedd.shape[1],char_embedd.shape[2])\n",
        "\n",
        "    # predict\n",
        "    output = m.predict([char_embedd])\n",
        "\n",
        "    # return [1,2,3,4,5,5,5,5,5,5,5,5,5,5,5] or convert to encode tag\n",
        "    tag_encode = []\n",
        "    for i in range(25): \n",
        "      tag_encode.append(argmax(output[0,i,:]))\n",
        "\n",
        "    # return [street, homenumber,.....] or only get [num_of_word] first element=> convert to tag\n",
        "    tag_result=[]\n",
        "    for i in range(num_of_word):\n",
        "      tag_result.append(aphabet_tag[tag_encode[i]])\n",
        "      arr_tag_result=np.array(tag_result)\n",
        "\n",
        "    print(tag_result)\n",
        "\n",
        "    return jsonify(sen_words=sen_words, tags=tag_result)\n",
        "if __name__ == \"__main__\":\n",
        "  import os\n",
        "  app.run()"
      ],
      "execution_count": null,
      "outputs": []
    },
    {
      "cell_type": "code",
      "metadata": {
        "colab": {
          "base_uri": "https://localhost:8080/"
        },
        "id": "ZasMUi-ijIeG",
        "outputId": "f7a1f000-fb8d-498e-bf1d-b8b6ff28d5ee"
      },
      "source": [
        "d = {'person': 2, 'cat': 4, 'spider': 8}\n",
        "# Duyệt key\n",
        "for animal in d:\n",
        "  print('A %s has %d legs' % (animal, d[animal]))"
      ],
      "execution_count": 149,
      "outputs": [
        {
          "output_type": "stream",
          "text": [
            "A person has 2 legs\n",
            "A cat has 4 legs\n",
            "A spider has 8 legs\n"
          ],
          "name": "stdout"
        }
      ]
    }
  ]
}